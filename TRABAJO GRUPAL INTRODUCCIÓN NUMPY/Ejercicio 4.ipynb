{
 "cells": [
  {
   "cell_type": "code",
   "execution_count": 1,
   "id": "f680a743",
   "metadata": {},
   "outputs": [],
   "source": [
    "import numpy as np\n",
    "\n",
    "# Matriz original\n",
    "original_matrix = np.array([\n",
    "    [1, 1, 1, 1, 1],\n",
    "    [1, 0, 0, 0, 1],\n",
    "    [1, 0, 9, 0, 1],\n",
    "    [1, 0, 0, 0, 1],\n",
    "    [1, 0, 1, 1, 1]\n",
    "])\n",
    "\n",
    "# Crear una copia de la matriz original\n",
    "modified_matrix = original_matrix.copy()"
   ]
  },
  {
   "cell_type": "code",
   "execution_count": 4,
   "id": "af117bd6",
   "metadata": {},
   "outputs": [
    {
     "name": "stdout",
     "output_type": "stream",
     "text": [
      "[[-1 -1 -1 -1 -1]\n",
      " [-1  0  0  0 -1]\n",
      " [-1  0  9  0 -1]\n",
      " [-1  0  0  0 -1]\n",
      " [-1  0 -1 -1 -1]]\n"
     ]
    }
   ],
   "source": [
    "# Reemplazar todos los valores de 1 por -1 (valor temporal)\n",
    "modified_matrix[modified_matrix == 1] = -1\n",
    "print(modified_matrix)\n"
   ]
  },
  {
   "cell_type": "code",
   "execution_count": 5,
   "id": "db8fb6d1",
   "metadata": {},
   "outputs": [
    {
     "name": "stdout",
     "output_type": "stream",
     "text": [
      "[[-1 -1 -1 -1 -1]\n",
      " [-1  0  0  0 -1]\n",
      " [-1  0  1  0 -1]\n",
      " [-1  0  0  0 -1]\n",
      " [-1  0 -1 -1 -1]]\n"
     ]
    }
   ],
   "source": [
    "# Reemplazar todos los valores de 9 por 1\n",
    "modified_matrix[modified_matrix == 9] = 1\n",
    "print(modified_matrix)"
   ]
  },
  {
   "cell_type": "code",
   "execution_count": 6,
   "id": "cc44c948",
   "metadata": {},
   "outputs": [
    {
     "name": "stdout",
     "output_type": "stream",
     "text": [
      "Matriz modificada:\n",
      "[[9 9 9 9 9]\n",
      " [9 0 0 0 9]\n",
      " [9 0 1 0 9]\n",
      " [9 0 0 0 9]\n",
      " [9 0 9 9 9]]\n"
     ]
    }
   ],
   "source": [
    "# Reemplazar todos los valores temporales (-1) por 9\n",
    "modified_matrix[modified_matrix == -1] = 9\n",
    "# Imprimir la matriz modificada\n",
    "print(\"Matriz modificada:\")\n",
    "print(modified_matrix)"
   ]
  },
  {
   "cell_type": "code",
   "execution_count": null,
   "id": "18341f91",
   "metadata": {},
   "outputs": [],
   "source": []
  }
 ],
 "metadata": {
  "kernelspec": {
   "display_name": "Python 3 (ipykernel)",
   "language": "python",
   "name": "python3"
  },
  "language_info": {
   "codemirror_mode": {
    "name": "ipython",
    "version": 3
   },
   "file_extension": ".py",
   "mimetype": "text/x-python",
   "name": "python",
   "nbconvert_exporter": "python",
   "pygments_lexer": "ipython3",
   "version": "3.11.5"
  }
 },
 "nbformat": 4,
 "nbformat_minor": 5
}
