{
  "metadata": {
    "kernelspec": {
      "name": "python",
      "display_name": "Python (Pyodide)",
      "language": "python"
    },
    "language_info": {
      "codemirror_mode": {
        "name": "python",
        "version": 3
      },
      "file_extension": ".py",
      "mimetype": "text/x-python",
      "name": "python",
      "nbconvert_exporter": "python",
      "pygments_lexer": "ipython3",
      "version": "3.8"
    }
  },
  "nbformat_minor": 4,
  "nbformat": 4,
  "cells": [
    {
      "cell_type": "code",
      "source": "import numpy as np\n\n# Crear un vector de 10 elementos\nvector = np.zeros(10, dtype=int)\n\n# Asignar 1 a los índices impares\nvector[::2] = 1\n\n# Asignar 2 a los índices pares\nvector[1::2] = 2\n\nprint(vector)",
      "metadata": {
        "trusted": true
      },
      "outputs": [
        {
          "name": "stdout",
          "text": "[1 2 1 2 1 2 1 2 1 2]\n",
          "output_type": "stream"
        }
      ],
      "execution_count": 2
    },
    {
      "cell_type": "code",
      "source": "import numpy as np\n\n# Crear un array 8x8 lleno de ceros\ntablero = np.zeros((8, 8), dtype=int)\n\n# Asignar 1 a las casillas negras\ntablero[1::2, ::2] = 1\ntablero[::2, 1::2] = 1\n\nprint(tablero)\n",
      "metadata": {
        "trusted": true
      },
      "outputs": [
        {
          "name": "stdout",
          "text": "[[0 1 0 1 0 1 0 1]\n [1 0 1 0 1 0 1 0]\n [0 1 0 1 0 1 0 1]\n [1 0 1 0 1 0 1 0]\n [0 1 0 1 0 1 0 1]\n [1 0 1 0 1 0 1 0]\n [0 1 0 1 0 1 0 1]\n [1 0 1 0 1 0 1 0]]\n",
          "output_type": "stream"
        }
      ],
      "execution_count": 3
    }
  ]
}