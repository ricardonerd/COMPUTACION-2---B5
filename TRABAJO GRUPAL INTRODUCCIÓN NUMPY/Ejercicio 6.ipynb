{
 "cells": [
  {
   "cell_type": "code",
   "execution_count": 1,
   "id": "a47cabb6-3c3d-4f3f-ae09-f2adf21ef1ad",
   "metadata": {},
   "outputs": [
    {
     "name": "stdout",
     "output_type": "stream",
     "text": [
      "[[  0   0   0  16  24  99]\n",
      " [  0 255   0  15  56  88]\n",
      " [  0   0   0  26  87  70]\n",
      " [120 100  45   0   0   0]\n",
      " [ 45 225  35   0 255   0]\n",
      " [ 36 255  24   0   0   0]]\n"
     ]
    }
   ],
   "source": [
    "# Primera matriz\n",
    "import numpy as np\n",
    "matriz1 = np.array([\n",
    "    [255, 34, 45, 16, 24, 99],\n",
    "    [200, 50, 67, 15, 56, 88],\n",
    "    [165, 67, 34, 26, 87, 70],\n",
    "    [120, 100, 45, 45, 56, 67],\n",
    "    [45, 225, 35, 67, 50, 44],\n",
    "    [36, 255, 24, 78, 77, 23]\n",
    "])\n",
    "\n",
    "# Segunda matriz\n",
    "import numpy as np\n",
    "matriz2 = np.array([\n",
    "    [0, 0, 0],\n",
    "    [0, 255, 0],\n",
    "    [0, 0, 0]\n",
    "])\n",
    "\n",
    "# Encontrar la posición del valor 50 en la primera matriz\n",
    "posiciones = np.argwhere(matriz1 == 50)\n",
    "\n",
    "# Reemplazar con la segunda matriz en las posiciones encontradas\n",
    "for pos in posiciones:\n",
    "    fila, columna = pos\n",
    "    matriz1[fila-1:fila+2, columna-1:columna+2] = matriz2\n",
    "\n",
    "print(matriz1)"
   ]
  },
  {
   "cell_type": "code",
   "execution_count": null,
   "id": "d7201db2-ced4-459c-896e-5915b165d8be",
   "metadata": {},
   "outputs": [],
   "source": []
  }
 ],
 "metadata": {
  "kernelspec": {
   "display_name": "Python 3 (ipykernel)",
   "language": "python",
   "name": "python3"
  },
  "language_info": {
   "codemirror_mode": {
    "name": "ipython",
    "version": 3
   },
   "file_extension": ".py",
   "mimetype": "text/x-python",
   "name": "python",
   "nbconvert_exporter": "python",
   "pygments_lexer": "ipython3",
   "version": "3.11.7"
  },
  "widgets": {
   "application/vnd.jupyter.widget-state+json": {
    "state": {},
    "version_major": 2,
    "version_minor": 0
   }
  }
 },
 "nbformat": 4,
 "nbformat_minor": 5
}
