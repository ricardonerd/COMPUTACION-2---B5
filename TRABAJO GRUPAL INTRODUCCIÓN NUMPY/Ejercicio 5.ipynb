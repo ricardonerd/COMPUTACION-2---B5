{
 "cells": [
  {
   "cell_type": "markdown",
   "metadata": {},
   "source": [
    "Con la primera instrucción `import numpy as np` le estamos indicando a nuestro programa de Python que de ahora en adelante `np` será la referencia para todo lo referente a NumPy."
   ]
  },
  {
   "cell_type": "markdown",
   "metadata": {},
   "source": [
    "Porque usar NumPy en vez de utilizar las listas propias que ofrece Python para manejar estos datos, la primera razón es que NumPy ocupa menos memoria en comparación a las lista de Python, a su vez es bastante rápido en términos de ejecución. Lo que se observa en el siguiente ejemplo:"
   ]
  },
  {
   "cell_type": "markdown",
   "metadata": {},
   "source": [
    "En ocasiones se requiere crear matrices vacías, esto se refiere a que se requieren marcadores de posición iniciales, que luego pueden ser rellenados. Se puede inicializar matrices con unos o ceros, pero también puedes hacer matrices que se llenan con valores espaciados uniformemente, valores constantes o aleatorios.\n",
    "\n",
    "Algunas de las instrucciones para crear este tipo de matrices son las siguientes:"
   ]
  },
  {
   "cell_type": "markdown",
   "metadata": {},
   "source": [
    "**Crear una matriz en donde todos los valores sean igual a 1**"
   ]
  },
  {
   "cell_type": "markdown",
   "metadata": {},
   "source": [
    "<center> <h2>Ejercicio 05</h2> </center> "
   ]
  },
  {
   "cell_type": "markdown",
   "metadata": {},
   "source": [
    "De la siguiente Matriz:"
   ]
  },
  {
   "cell_type": "markdown",
   "metadata": {},
   "source": [
    "<img src=\"https://user-images.githubusercontent.com/19308295/115969585-39509780-a503-11eb-92ac-fd88557e6cfc.png\"\n",
    "    style=\"width:400px\"></img>"
   ]
  },
  {
   "cell_type": "markdown",
   "metadata": {},
   "source": [
    "* Extraer la matrices de cada color"
   ]
  },
  {
   "cell_type": "markdown",
   "metadata": {},
   "source": []
  },
  {
   "cell_type": "code",
   "execution_count": 2,
   "metadata": {},
   "outputs": [
    {
     "name": "stdout",
     "output_type": "stream",
     "text": [
      "La matriz original es: \n",
      "\n",
      "[[ 1  2  3  4  5]\n",
      " [ 6  7  8  9 10]\n",
      " [11 12 13 14 15]\n",
      " [16 17 18 19 20]\n",
      " [21 22 23 24 25]\n",
      " [26 27 28 29 30]]\n",
      "\n",
      "===============================\n",
      "Las matrices modificadas son: \n",
      "\n",
      "MATRIZ AZUL: \n",
      "[[11 12]\n",
      " [16 17]]\n",
      "\n",
      "MATRIZ ROJO A: \n",
      "[[4 5]]\n",
      "\n",
      "MATRIZ ROJO B: \n",
      "[[24 25]\n",
      " [29 30]]\n",
      "\n",
      "MATRIZ VERDE: \n",
      "[[ 2  0  0  0]\n",
      " [ 0  8  0  0]\n",
      " [ 0  0 14  0]\n",
      " [ 0  0  0 20]]\n"
     ]
    }
   ],
   "source": [
    "import numpy as np\n",
    "\n",
    "matriz = np.arange(1, 31).reshape(6, 5)\n",
    "#Seleccionando las matrices azul,rojoA y rojoB; en verde solo lo convierto en una matriz 4x4 y\n",
    "#haciendo una copia para no modificar a las demas matrices\n",
    "matriz_azul = matriz[2:4, 0:2]\n",
    "matriz_rojoA = matriz[0:1, 3:5]\n",
    "matriz_rojoB = matriz[4:6, 3:5]\n",
    "matriz_verde = matriz[0:4, 1:5].copy()\n",
    "\n",
    "#Solo para la matriz de verde: se conserva los numeros 2,8,14 y 20 los demas se convierten en ceros.\n",
    "for n,m in np.ndindex(4,4):\n",
    "  if matriz_verde[n,m] == 2:\n",
    "    matriz_verde[n,m] = 2\n",
    "  elif matriz_verde[n,m] == 8:\n",
    "    matriz_verde[n,m] = 8\n",
    "  elif matriz_verde[n,m] == 14:\n",
    "    matriz_verde[n,m] = 14\n",
    "  elif matriz_verde[n,m] == 20:\n",
    "    matriz_verde[n,m] = 20\n",
    "  else:\n",
    "    matriz_verde[n,m] = 0\n",
    "\n",
    "#Impresión\n",
    "print(\"La matriz original es: \", end='\\n\\n')\n",
    "print(matriz)\n",
    "print(\"\\n===============================\")\n",
    "print(\"Las matrices modificadas son: \", end='\\n\\n')\n",
    "print(\"MATRIZ AZUL: \")\n",
    "print(matriz_azul)\n",
    "print(\"\\nMATRIZ ROJO A: \")\n",
    "print(matriz_rojoA)\n",
    "print(\"\\nMATRIZ ROJO B: \")\n",
    "print(matriz_rojoB)\n",
    "print(\"\\nMATRIZ VERDE: \")\n",
    "print(matriz_verde)"
   ]
  },
  {
   "cell_type": "markdown",
   "metadata": {},
   "source": [
    "Se debe **buscar dentro de la matriz de color verde el valor = 50**, luego reemplazar con la pequeña matriz de color celeste quedando la matriz de la siguiente manera:"
   ]
  },
  {
   "cell_type": "markdown",
   "metadata": {},
   "source": [
    "![linea 2](https://user-images.githubusercontent.com/19308295/115926262-2fb62980-a448-11eb-8189-c2f10e499944.png)"
   ]
  },
  {
   "cell_type": "markdown",
   "metadata": {},
   "source": [
    "## <font color=#33A5FF>****BIBLIOGRAFÍA****<tfont>"
   ]
  },
  {
   "cell_type": "markdown",
   "metadata": {},
   "source": [
    "[1] Documentación de NumPy http://docs.scipy.org/doc/numpy\n",
    "\n",
    "[2] Travis Oliphant, \"Guide to NumPy\" http://csc.ucdavis.edu/~chaos/courses/nlp/Software/NumPyBook.pdf\n",
    "\n",
    "[3] SciPy Lecture Notes http://scipy-lectures.github.io\n",
    "\n",
    "[4] Nicolas Rougier, \"100 NumPy exercises\" http://www.loria.fr/~rougier/teaching/numpy.100/index.html"
   ]
  },
  {
   "cell_type": "markdown",
   "metadata": {},
   "source": [
    "![linea 1](https://user-images.githubusercontent.com/19308295/115926252-2b8a0c00-a448-11eb-9d9c-b43beaf0ff68.png)"
   ]
  }
 ],
 "metadata": {
  "kernelspec": {
   "display_name": "Python 3 (ipykernel)",
   "language": "python",
   "name": "python3"
  },
  "language_info": {
   "codemirror_mode": {
    "name": "ipython",
    "version": 3
   },
   "file_extension": ".py",
   "mimetype": "text/x-python",
   "name": "python",
   "nbconvert_exporter": "python",
   "pygments_lexer": "ipython3",
   "version": "3.11.7"
  }
 },
 "nbformat": 4,
 "nbformat_minor": 4
}
