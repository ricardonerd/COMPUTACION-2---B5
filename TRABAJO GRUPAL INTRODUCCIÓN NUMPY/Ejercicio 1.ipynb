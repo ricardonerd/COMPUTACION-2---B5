{
  "metadata": {
    "kernelspec": {
      "name": "python",
      "display_name": "Python (Pyodide)",
      "language": "python"
    },
    "language_info": {
      "codemirror_mode": {
        "name": "python",
        "version": 3
      },
      "file_extension": ".py",
      "mimetype": "text/x-python",
      "name": "python",
      "nbconvert_exporter": "python",
      "pygments_lexer": "ipython3",
      "version": "3.8"
    }
  },
  "nbformat_minor": 5,
  "nbformat": 4,
  "cells": [
    {
      "id": "cb8a18c8-5663-4a9e-8cd0-a5e400955df8",
      "cell_type": "code",
      "source": "import numpy as np\narray = np.zeros((7, 8), dtype=int)\nprint(array)",
      "metadata": {
        "trusted": true
      },
      "outputs": [
        {
          "name": "stdout",
          "text": "[[0 0 0 0 0 0 0 0]\n [0 0 0 0 0 0 0 0]\n [0 0 0 0 0 0 0 0]\n [0 0 0 0 0 0 0 0]\n [0 0 0 0 0 0 0 0]\n [0 0 0 0 0 0 0 0]\n [0 0 0 0 0 0 0 0]]\n",
          "output_type": "stream"
        }
      ],
      "execution_count": 1
    },
    {
      "id": "673d9af5-77d5-45cb-a68f-8d3e305d82c1",
      "cell_type": "code",
      "source": "import numpy as np\n# Crear un array 7x8 lleno de ceros\narray = np.zeros((7, 8), dtype=int)\n# Establecer la primera fila a unos\narray[0, :] = 1\nprint(array)",
      "metadata": {
        "trusted": true
      },
      "outputs": [
        {
          "name": "stdout",
          "text": "[[1 1 1 1 1 1 1 1]\n [0 0 0 0 0 0 0 0]\n [0 0 0 0 0 0 0 0]\n [0 0 0 0 0 0 0 0]\n [0 0 0 0 0 0 0 0]\n [0 0 0 0 0 0 0 0]\n [0 0 0 0 0 0 0 0]]\n",
          "output_type": "stream"
        }
      ],
      "execution_count": 2
    },
    {
      "id": "b6ddb4b3-a9f5-4c8d-8c43-dc3108aa8d68",
      "cell_type": "code",
      "source": "import numpy as np\n\n# Crear un array 7x8 lleno de ceros\narray = np.zeros((7, 8), dtype=int)\n\n# Establecer la última fila al rango entre 5 y 12\narray[-1, :] = np.arange(5, 13)\n\nprint(array)",
      "metadata": {
        "trusted": true
      },
      "outputs": [
        {
          "name": "stdout",
          "text": "[[ 0  0  0  0  0  0  0  0]\n [ 0  0  0  0  0  0  0  0]\n [ 0  0  0  0  0  0  0  0]\n [ 0  0  0  0  0  0  0  0]\n [ 0  0  0  0  0  0  0  0]\n [ 0  0  0  0  0  0  0  0]\n [ 5  6  7  8  9 10 11 12]]\n",
          "output_type": "stream"
        }
      ],
      "execution_count": 1
    }
  ]
}