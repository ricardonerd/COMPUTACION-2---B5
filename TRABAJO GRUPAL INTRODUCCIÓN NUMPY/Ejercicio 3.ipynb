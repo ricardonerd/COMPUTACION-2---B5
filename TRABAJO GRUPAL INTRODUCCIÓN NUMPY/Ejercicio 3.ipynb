 "cells": [
  {
   "cell_type": "code",
   "execution_count": 9,
   "id": "ecba8bb2",
   "metadata": {},
   "outputs": [
    {
     "name": "stdout",
     "output_type": "stream",
     "text": [
      "[[ 9  7 27 33 26]\n",
      " [ 6 43 10 30 17]\n",
      " [12  7  3 11 25]\n",
      " [ 7  6  1  6 17]\n",
      " [17 42  9 35 23]]\n"
     ]
    }
   ],
   "source": [
    "import numpy as np\n",
    "\n",
    "# Crea una matriz aleatoria de 5x5\n",
    "matrix = np.random.randint(0, 50, (5, 5))\n",
    "\n",
    "# Imprime la matriz inicial\n",
    "print(matrix)\n",
    "\n"
   ]
  },
  {
   "cell_type": "code",
   "execution_count": 7,
   "id": "7fc3bb60",
   "metadata": {},
   "outputs": [
    {
     "name": "stdout",
     "output_type": "stream",
     "text": [
      "\n",
      "Valor mínimo: 1\n",
      "Valor máximo: 48\n"
     ]
    }
   ],
   "source": [
    "# Encuentra los valores mínimo y máximo.\n",
    "min_value = matrix.min()\n",
    "max_value = matrix.max()\n",
    "\n",
    "# Imprimir los valores mínimo y máximo.\n",
    "print(\"\\nValor mínimo:\", min_value)\n",
    "print(\"Valor máximo:\", max_value)\n"
   ]
  },
  {
   "cell_type": "code",
   "execution_count": 8,
   "id": "a091e24e",
   "metadata": {},
   "outputs": [
    {
     "name": "stdout",
     "output_type": "stream",
     "text": [
      "\n",
      "Matriz normalizada:\n",
      "[[0.68085106 0.14893617 0.29787234 0.80851064 0.4893617 ]\n",
      " [0.04255319 0.85106383 0.57446809 0.57446809 0.89361702]\n",
      " [0.59574468 0.91489362 0.59574468 0.93617021 0.        ]\n",
      " [0.12765957 0.57446809 0.12765957 0.63829787 0.14893617]\n",
      " [0.63829787 0.29787234 0.19148936 1.         0.4893617 ]]\n"
     ]
    }
   ],
   "source": [
    "# Normalizar la matriz entre 0 y 1\n",
    "normalized_matrix = (matrix - min_value) / (max_value - min_value)\n",
    "\n",
    "# Imprime la matriz normalizada\n",
    "print(\"\\nMatriz normalizada:\")\n",
    "print(Matriz_normalizada) "
   ]
  },
  {
   "cell_type": "code",
   "execution_count": null,
   "id": "c868fc92",
   "metadata": {},
   "outputs": [],
   "source": []
  }
 ],
 "metadata": {
  "kernelspec": {
   "display_name": "Python 3 (ipykernel)",
   "language": "python",
   "name": "python3"
  },
  "language_info": {
   "codemirror_mode": {
    "name": "ipython",
    "version": 3
   },
   "file_extension": ".py",
   "mimetype": "text/x-python",
   "name": "python",
   "nbconvert_exporter": "python",
   "pygments_lexer": "ipython3",
   "version": "3.11.5"
  }
 },
 "nbformat": 4,
 "nbformat_minor": 5
}
