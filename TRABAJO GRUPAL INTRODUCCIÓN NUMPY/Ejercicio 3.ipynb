{
 "cells": [
  {
   "cell_type": "code",
   "execution_count": 9,
   "id": "ecba8bb2",
   "metadata": {},
   "outputs": [
    {
     "name": "stdout",
     "output_type": "stream",
     "text": [
      "[[ 9  7 27 33 26]\n",
      " [ 6 43 10 30 17]\n",
      " [12  7  3 11 25]\n",
      " [ 7  6  1  6 17]\n",
      " [17 42  9 35 23]]\n"
     ]
    }
   ],
   "source": [
    "import numpy as np\n",
    "\n",
    "# Create a random 5x5 matrix\n",
    "matrix = np.random.randint(0, 50, (5, 5))\n",
    "\n",
    "# Print the initial matrix\n",
    "print(matrix)\n",
    "\n"
   ]
  },
  {
   "cell_type": "code",
   "execution_count": 7,
   "id": "7fc3bb60",
   "metadata": {},
   "outputs": [
    {
     "name": "stdout",
     "output_type": "stream",
     "text": [
      "\n",
      "Valor mínimo: 1\n",
      "Valor máximo: 48\n"
     ]
    }
   ],
   "source": [
    "# Find the minimum and maximum values\n",
    "min_value = matrix.min()\n",
    "max_value = matrix.max()\n",
    "\n",
    "# Print the minimum and maximum values\n",
    "print(\"\\nValor mínimo:\", min_value)\n",
    "print(\"Valor máximo:\", max_value)\n"
   ]
  },
  {
   "cell_type": "code",
   "execution_count": 8,
   "id": "a45384dc",
   "metadata": {},
   "outputs": [
    {
     "name": "stdout",
     "output_type": "stream",
     "text": [
      "\n",
      "Matriz normalizada:\n",
      "[[0.68085106 0.14893617 0.29787234 0.80851064 0.4893617 ]\n",
      " [0.04255319 0.85106383 0.57446809 0.57446809 0.89361702]\n",
      " [0.59574468 0.91489362 0.59574468 0.93617021 0.        ]\n",
      " [0.12765957 0.57446809 0.12765957 0.63829787 0.14893617]\n",
      " [0.63829787 0.29787234 0.19148936 1.         0.4893617 ]]\n"
     ]
    }
   ],
   "source": [
    "# Normalize the matrix between 0 and 1\n",
    "normalized_matrix = (matrix - min_value) / (max_value - min_value)\n",
    "\n",
    "# Print the normalized matrix\n",
    "print(\"\\nMatriz normalizada:\")\n",
    "print(normalized_matrix)"
   ]
  },
  {
   "cell_type": "code",
   "execution_count": null,
   "id": "16638b89",
   "metadata": {},
   "outputs": [],
   "source": []
  }
 ],
 "metadata": {
  "kernelspec": {
   "display_name": "Python 3 (ipykernel)",
   "language": "python",
   "name": "python3"
  },
  "language_info": {
   "codemirror_mode": {
    "name": "ipython",
    "version": 3
   },
   "file_extension": ".py",
   "mimetype": "text/x-python",
   "name": "python",
   "nbconvert_exporter": "python",
   "pygments_lexer": "ipython3",
   "version": "3.11.5"
  }
 },
 "nbformat": 4,
 "nbformat_minor": 5
}
