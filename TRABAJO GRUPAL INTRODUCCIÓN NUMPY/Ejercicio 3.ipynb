https://github.com/ricardonerd/COMPUTACION-2---B5/blob/main/TRABAJO%20GRUPAL%20INTRODUCCI%C3%93N%20NUMPY/Ejercicio%203.ipynb
