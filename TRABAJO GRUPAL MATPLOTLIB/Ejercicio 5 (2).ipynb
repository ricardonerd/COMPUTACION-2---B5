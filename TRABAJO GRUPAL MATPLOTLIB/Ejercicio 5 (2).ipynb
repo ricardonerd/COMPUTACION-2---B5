{
 "cells": [
  {
   "cell_type": "markdown",
   "metadata": {},
   "source": [
    "<center> <h1>Universidad Nacional de San Agustín de Arequipa</h1> </center> \n",
    "<center> <h1>Escuela Profesional de Ingeniería de Telecomunicaciones</h1> </center> \n",
    "\n",
    "<center> <h1> </h1> </center> \n",
    "\n",
    "<center><img src=\"https://user-images.githubusercontent.com/19308295/115939517-f1c6fe80-a463-11eb-989c-812ab4942586.png\" width=\"380\" height=\"4200\"></center>"
   ]
  },
  {
   "cell_type": "markdown",
   "metadata": {},
   "source": [
    "<center> <h2>Ingeniero Renzo Bolivar - Docente DAIE</h2> </center> "
   ]
  },
  {
   "cell_type": "markdown",
   "metadata": {},
   "source": [
    "<center> <h1>Curso : Computación 2</h1> </center> "
   ]
  },
  {
   "cell_type": "markdown",
   "metadata": {},
   "source": [
    "![linea 1](https://user-images.githubusercontent.com/19308295/115926252-2b8a0c00-a448-11eb-9d9c-b43beaf0ff68.png)"
   ]
  },
  {
   "cell_type": "markdown",
   "metadata": {},
   "source": [
    "<center> <h1>MATPLOTLIB</h1> </center> "
   ]
  },
  {
   "cell_type": "markdown",
   "metadata": {},
   "source": [
    "![linea 1](https://user-images.githubusercontent.com/19308295/115926252-2b8a0c00-a448-11eb-9d9c-b43beaf0ff68.png)"
   ]
  },
  {
   "cell_type": "markdown",
   "metadata": {},
   "source": [
    "# Descripción:"
   ]
  },
  {
   "cell_type": "markdown",
   "metadata": {},
   "source": [
    "En este notebook se explicará como utilizar la librerías **MatplotLib y Numpy** para realizar gráficas de todo tipo utilizando el lenguage de programación **Python 3**"
   ]
  },
  {
   "cell_type": "markdown",
   "metadata": {},
   "source": [
    "# Objetivos:"
   ]
  },
  {
   "cell_type": "markdown",
   "metadata": {},
   "source": [
    " 1. Presentación y/o Visualización de **Datos con Matplotlib**.\n",
    " 2. Utilizar datos en **listas simples** en Python 3 para graficar con **Matplotlib**.\n",
    " 3. Utilizar datos en **matrices NumPy** para graficar con **Matplotlib**.\n"
   ]
  },
  {
   "cell_type": "markdown",
   "metadata": {},
   "source": [
    "# Contenido:"
   ]
  },
  {
   "cell_type": "markdown",
   "metadata": {},
   "source": [
    "\n",
    "\n",
    "[1. MatplotLib Librería de Generación de Gráficas](#1.-MatplotLib-Librería-de-Generación-de-Gráficas)<br>\n",
    "[2. Gráficas de línea](#2.-Gráficas-de-línea)<br>\n",
    "[3. Gráfico de Barras](#3.-Gráfico-de-Barras)<br>\n",
    "[4. Gráfica Circular (pastel)](#4.-Gráfica-Circular-(pastel))<br>\n",
    "[5. Gráfica Dispersión](#5.-Gráfica-Dispersión)<br>\n",
    "[6. Histogramas](#6.-Histogramas)<br>\n",
    "\n",
    "[EJEMPLOS](#EJEMPLOS)<br>\n",
    "[EJERCICIOS](#EJERCICIOS)<br>\n",
    "[BIBLIOGRAFÍA](#BIBLIOGRAFÍA)<br>"
   ]
  },
  {
   "cell_type": "markdown",
   "metadata": {},
   "source": [
    "![linea 1](https://user-images.githubusercontent.com/19308295/115926252-2b8a0c00-a448-11eb-9d9c-b43beaf0ff68.png)"
   ]
  },
  {
   "cell_type": "markdown",
   "metadata": {},
   "source": [
    "## <font color=#33A5FF>****1. MatplotLib Librería de Generación de Gráficas****<tfont>"
   ]
  },
  {
   "cell_type": "markdown",
   "metadata": {},
   "source": [
    "![matplotlib](https://user-images.githubusercontent.com/19308295/117550941-af2b2780-b008-11eb-9403-60764935081f.png)"
   ]
  },
  {
   "cell_type": "markdown",
   "metadata": {},
   "source": [
    "<div class=\"well\">\n",
    "<strong>Matplotlib: </strong> es una librería de trazado utilizada para gráficos 2D en lenguaje de programación Python, es muy flexible y tiene muchos valores predeterminados incorporados que te ayudarán en tú trabajo. \n",
    "    \n",
    "   Para iniciar necesitas: \n",
    "    \n",
    "    \n",
    "   - Realizar las importaciones necesarias\n",
    "   - Preparar algunos datos y \n",
    "   - Trazar tu función con la ayuda de la interfaz <strong>pyplot</strong>. \n",
    "</div>"
   ]
  },
  {
   "cell_type": "markdown",
   "metadata": {},
   "source": [
    "<div class=\"well\">\n",
    "<code>matplotlib.pyplot</code> es una colección de funciones que hacen que <strong>matplotlib</strong> funcione como MATLAB. Cada función <strong>pyplot</strong> realiza algún cambio en la figura.\n",
    "\n",
    "</div>"
   ]
  },
  {
   "cell_type": "markdown",
   "metadata": {},
   "source": [
    "<div class=\"well\">\n",
    "<strong>Nota: </strong>\n",
    "\n",
    "La <strong>API</strong> de <code>pyplot</code> es generalmente menos flexible que la API orientada a objetos. La mayoría de las llamadas a funciones que ve aquí también se pueden llamar como <strong>métodos</strong> desde un objeto <code>ax.plot</code>. \n",
    "\n",
    "</div>"
   ]
  },
  {
   "cell_type": "markdown",
   "metadata": {},
   "source": [
    "## Visualización con Matplotlib:"
   ]
  },
  {
   "cell_type": "markdown",
   "metadata": {},
   "source": [
    "###  Importamos los paquetes necesarios:"
   ]
  },
  {
   "cell_type": "code",
   "execution_count": null,
   "metadata": {},
   "outputs": [],
   "source": [
    "\n"
   ]
  },
  {
   "cell_type": "markdown",
   "metadata": {},
   "source": [
    "## Interfaz pyplot:"
   ]
  },
  {
   "cell_type": "markdown",
   "metadata": {},
   "source": [
    "###  Función `plot`"
   ]
  },
  {
   "cell_type": "markdown",
   "metadata": {},
   "source": [
    "La interfaz `pyplot` proporciona una serie de funciones que operan sobre un estado global - es decir, nosotros no especificamos sobre qué gráfica o ejes estamos actuando. Es una forma rápida y cómoda de crear gráficas pero perdemos parte del control."
   ]
  },
  {
   "cell_type": "markdown",
   "metadata": {},
   "source": [
    "El paquete `pyplot` se suele importar bajo el alias `plt`, de modo que todas las funciones se acceden a través de `plt.<funcion>`. La función más básica es la función `plot`:"
   ]
  },
  {
   "cell_type": "code",
   "execution_count": null,
   "metadata": {},
   "outputs": [],
   "source": [
    "\n",
    "\n",
    "\n"
   ]
  },
  {
   "cell_type": "markdown",
   "metadata": {},
   "source": [
    "La función `plot` recibe una sola lista (si queremos especificar los valores y) o dos listas (si especificamos x e y). Naturalmente si especificamos dos listas ambas tienen que tener la misma longitud."
   ]
  },
  {
   "cell_type": "markdown",
   "metadata": {},
   "source": [
    "![linea 2](https://user-images.githubusercontent.com/19308295/115926262-2fb62980-a448-11eb-8189-c2f10e499944.png)"
   ]
  },
  {
   "cell_type": "markdown",
   "metadata": {},
   "source": [
    "## <font color=#33A5FF>****2. Gráficas de línea****<tfont>"
   ]
  },
  {
   "cell_type": "code",
   "execution_count": null,
   "metadata": {},
   "outputs": [],
   "source": [
    "\n",
    "\n",
    "\n"
   ]
  },
  {
   "cell_type": "code",
   "execution_count": null,
   "metadata": {},
   "outputs": [],
   "source": [
    "\n",
    "\n",
    "\n",
    "\n"
   ]
  },
  {
   "cell_type": "code",
   "execution_count": null,
   "metadata": {},
   "outputs": [],
   "source": [
    "\n",
    "\n",
    "\n",
    "\n",
    "\n",
    "\n",
    "\n",
    "\n",
    "\n",
    "\n"
   ]
  },
  {
   "cell_type": "markdown",
   "metadata": {},
   "source": [
    "![linea 2](https://user-images.githubusercontent.com/19308295/115926262-2fb62980-a448-11eb-8189-c2f10e499944.png)"
   ]
  },
  {
   "cell_type": "markdown",
   "metadata": {},
   "source": [
    "## <font color=#33A5FF>****3. Gráfico de Barras****<tfont>"
   ]
  },
  {
   "cell_type": "markdown",
   "metadata": {},
   "source": [
    "Los gráficos de barras se usan para comparar datos entre diferentes categorías, estos se pueden representar horizontal o verticalmente.\n",
    "\n",
    "La pogramación es muy parecida con gráficas de líneas, definimos los datos que vamos a graficar y configuramos las características del gráfico, en ves de utilizar `plt.plot()` usamos `plt.bar()` que indica que se va a graficar una gráfica de barras. El resto de instrucciones es exactamente igual."
   ]
  },
  {
   "cell_type": "markdown",
   "metadata": {},
   "source": [
    "**Barras Verticales**"
   ]
  },
  {
   "cell_type": "code",
   "execution_count": null,
   "metadata": {},
   "outputs": [],
   "source": [
    "\n",
    "\n",
    "\n",
    "\n",
    "\n",
    "\n",
    "\n",
    "\n",
    "\n"
   ]
  },
  {
   "cell_type": "markdown",
   "metadata": {},
   "source": [
    "**Barras Horizontales**"
   ]
  },
  {
   "cell_type": "code",
   "execution_count": null,
   "metadata": {},
   "outputs": [],
   "source": [
    "\n",
    "\n",
    "\n",
    "\n",
    "\n",
    "\n",
    "\n",
    "\n",
    "\n"
   ]
  },
  {
   "cell_type": "markdown",
   "metadata": {},
   "source": [
    "![linea 2](https://user-images.githubusercontent.com/19308295/115926262-2fb62980-a448-11eb-8189-c2f10e499944.png)"
   ]
  },
  {
   "cell_type": "markdown",
   "metadata": {},
   "source": [
    "## <font color=#33A5FF>****4. Gráfica Circular (pastel)****<tfont>"
   ]
  },
  {
   "cell_type": "markdown",
   "metadata": {},
   "source": [
    "Un gráfico circular se divide en segmentos, es decir, sectores de pastel, básicamente se usa para mostrar el porcentaje o los datos proporcionales en los que cada porción del pastel representa una categoría.\n",
    "\n",
    "El procedimiento es muy parecido alos casos anteriores, ahora se utiliza `plt.pie()` pero se debe especificar otras características para mejorar la presentación de la gráfica."
   ]
  },
  {
   "cell_type": "markdown",
   "metadata": {},
   "source": [
    "**Simple**"
   ]
  },
  {
   "cell_type": "code",
   "execution_count": null,
   "metadata": {},
   "outputs": [],
   "source": [
    "\n",
    "\n",
    "\n",
    "\n",
    "\n"
   ]
  },
  {
   "cell_type": "markdown",
   "metadata": {},
   "source": [
    "**Con porcentajes**"
   ]
  },
  {
   "cell_type": "code",
   "execution_count": null,
   "metadata": {},
   "outputs": [],
   "source": [
    "\n",
    "\n",
    "\n",
    "\n",
    "\n",
    "\n"
   ]
  },
  {
   "cell_type": "markdown",
   "metadata": {},
   "source": [
    "**Cambio de colores**"
   ]
  },
  {
   "cell_type": "code",
   "execution_count": null,
   "metadata": {},
   "outputs": [],
   "source": [
    "\n",
    "\n",
    "\n",
    "\n",
    "\n",
    "\n",
    "\n",
    "\n",
    "\n"
   ]
  },
  {
   "cell_type": "markdown",
   "metadata": {},
   "source": [
    "**Separación del pie**"
   ]
  },
  {
   "cell_type": "code",
   "execution_count": null,
   "metadata": {},
   "outputs": [],
   "source": [
    "\n",
    "\n",
    "\n",
    "\n",
    "\n",
    "\n",
    "\n"
   ]
  },
  {
   "cell_type": "markdown",
   "metadata": {},
   "source": [
    "## <font color=#33A5FF>****5. Gráfica Dispersión****<tfont>"
   ]
  },
  {
   "cell_type": "markdown",
   "metadata": {},
   "source": [
    "Los gráficos de dispersión se utilizaron para comparar variables, por ejemplo, cuánto una variable se ve afectada por otra variable y de esta forma se construye una relación a partir de ella. \n",
    "\n",
    "En esta gráfica los datos se muestran como una colección de puntos, cada uno con el valor de una variable que determina la posición en el eje horizontal y el valor de otra variable determina la posición en el eje vertical.\n",
    "\n",
    "La gráfica se construye utilizando el comando `plt.scatter()` que significa dispersión en inglés, y el resto de las instrucciones son las mismas que hemos utilizado hasta ahora."
   ]
  },
  {
   "cell_type": "markdown",
   "metadata": {},
   "source": [
    "**Simple**"
   ]
  },
  {
   "cell_type": "code",
   "execution_count": null,
   "metadata": {},
   "outputs": [],
   "source": [
    "\n",
    "\n",
    "\n",
    "\n",
    "\n",
    "\n",
    "\n",
    "\n",
    "\n"
   ]
  },
  {
   "cell_type": "markdown",
   "metadata": {},
   "source": [
    "## <font color=#33A5FF>****6. Histogramas****<tfont>"
   ]
  },
  {
   "cell_type": "markdown",
   "metadata": {},
   "source": [
    "Los histogramas se usan para mostrar una distribución, son útiles cuando tienes matrices o una lista muy larga. Veamos como podemos graficar este tipo de gráficos.\n",
    "\n",
    "Para esta gráfica definimos los datos y a su vez un los `bins` que vendría siendo los compartimientos en donde estarán ubicados en nuestra gráfica los datos. A su vez acá empleamos la instrucción `plt.hist()` para representar esta gráfica y el resto de instrucciones es la misma que hemos utilizado con anterioridad."
   ]
  },
  {
   "cell_type": "markdown",
   "metadata": {},
   "source": [
    "**simple**"
   ]
  },
  {
   "cell_type": "code",
   "execution_count": null,
   "metadata": {},
   "outputs": [],
   "source": [
    "\n",
    "\n",
    "\n",
    "\n",
    "\n",
    "\n",
    "\n",
    "\n",
    "\n"
   ]
  },
  {
   "cell_type": "markdown",
   "metadata": {},
   "source": [
    "![linea 2](https://user-images.githubusercontent.com/19308295/115926262-2fb62980-a448-11eb-8189-c2f10e499944.png)"
   ]
  },
  {
   "cell_type": "markdown",
   "metadata": {},
   "source": [
    "## <font color=#33A5FF>****EJEMPLOS****<tfont>"
   ]
  },
  {
   "cell_type": "markdown",
   "metadata": {},
   "source": [
    "___Ejemplo 1:___ Varias gráficas de línea"
   ]
  },
  {
   "cell_type": "code",
   "execution_count": null,
   "metadata": {},
   "outputs": [],
   "source": [
    "#declaramos el tamaño de la figura\n",
    "fig = plt.figure(figsize=(15,15))\n",
    "fig.tight_layout()  #definimos espaciado suficiente entre graficas\n",
    "\n",
    "#lista de colores\n",
    "colores = ['blue','green','red','cyan','magenta','yellow','black','white']\n",
    "\n",
    "for i in range(1,7):                 # seis graficas\n",
    "    x = np.arange(0,16,2)            # rango de numeros desde 0 al 16 , de 2 en 2\n",
    "    y = pow(x,np.random.randint(0,6))+np.random.randint(0,10)*x+np.random.randint(-5,10) # ecuación al azar con x elevado a la potencia al azar de 0 a 6, \n",
    "    ax = plt.subplot(2,3,i)          # acomodo de 2 filas con 3 columnas acomodo con i\n",
    "    ax.plot(x,y,color = colores[i])  #graficamos con color cada subgrafica\n",
    "    ax.set_xlabel('x')            #etiquetas\n",
    "    ax.set_ylabel('y')\n",
    "    ax.set_title('Gráfica '+str(i))\n",
    "    "
   ]
  },
  {
   "cell_type": "markdown",
   "metadata": {},
   "source": [
    "___Ejemplo 2:___ Gráfica completa circular"
   ]
  },
  {
   "cell_type": "code",
   "execution_count": null,
   "metadata": {},
   "outputs": [],
   "source": [
    "#Definir los datos\n",
    "dormir =[7,8,6,11,7]\n",
    "comer = [2,3,4,3,2]\n",
    "trabajar =[7,8,7,2,2]\n",
    "recreación = [8,5,7,8,13]\n",
    "divisiones = [7,2,2,13]\n",
    "actividades = ['Dormir','Comer','Trabajar','Recreación']\n",
    "colores = ['red','purple','blue','orange']\n",
    "desfase = (0.1,0,0,0)\n",
    "\n",
    "#Configurar las características del gráfico\n",
    "plt.pie(divisiones, labels=actividades, colors=colores, startangle=90, shadow=True, explode=desfase, autopct='%1.1f%%')\n",
    "\n",
    "#Definir título\n",
    "plt.title('Gráfico circular')\n",
    "\n",
    "#Mostrar figura\n",
    "plt.show()"
   ]
  },
  {
   "cell_type": "markdown",
   "metadata": {},
   "source": [
    "___Ejemplo 3:___ Barras Dobles Verticales"
   ]
  },
  {
   "cell_type": "code",
   "execution_count": null,
   "metadata": {},
   "outputs": [],
   "source": [
    "#Definir los datos\n",
    "x1 = [0.25, 1.25, 2.25, 3.25, 4.25]\n",
    "y1 = [10, 55, 80, 32, 40]\n",
    "x2 = [0.75, 1.75, 2.75, 3.75, 4.75]\n",
    "y2 = [42, 26, 10, 29, 66]\n",
    "\n",
    "#Configurar las características del gráfico\n",
    "plt.bar(x1, y1, label = 'Datos 1', width = 0.5, color = 'lightblue', edgecolor='black')\n",
    "plt.bar(x2, y2, label = 'Datos 2', width = 0.5, color = 'orange', edgecolor='black')\n",
    "\n",
    "#Definir título y nombres de ejes\n",
    "plt.title('Gráfico de barras')\n",
    "plt.ylabel('Eje Y')\n",
    "plt.xlabel('Eje X')\n",
    "\n",
    "#Mostrar leyenda y figura\n",
    "plt.legend()\n",
    "plt.show()"
   ]
  },
  {
   "cell_type": "markdown",
   "metadata": {},
   "source": [
    "___Ejemplo 4:___ Gráfico Dispersión"
   ]
  },
  {
   "cell_type": "code",
   "execution_count": null,
   "metadata": {},
   "outputs": [],
   "source": [
    "#Definir los datos\n",
    "x1 = [0.25, 1.25, 2.25, 3.25, 4.25]\n",
    "y1 = [10, 55, 80, 32, 40]\n",
    "x2 = [0.75, 1.75, 2.75, 3.75, 4.75]\n",
    "y2 = [42, 26, 10, 29, 66]\n",
    "\n",
    "#Configurar las características del gráfico\n",
    "plt.scatter(x1, y1, label = 'Datos 1',color = 'red')\n",
    "plt.scatter(x2, y2,label = 'Datos 2', color = 'purple')\n",
    "\n",
    "#Definir título y nombres de ejes\n",
    "plt.title('Gráfico de dispersión')\n",
    "plt.ylabel('Eje Y')\n",
    "plt.xlabel('Eje X')\n",
    "\n",
    "#Mostrar leyenda y figura\n",
    "plt.legend()\n",
    "plt.show()"
   ]
  },
  {
   "cell_type": "markdown",
   "metadata": {},
   "source": [
    "![linea 2](https://user-images.githubusercontent.com/19308295/115926262-2fb62980-a448-11eb-8189-c2f10e499944.png)"
   ]
  },
  {
   "cell_type": "markdown",
   "metadata": {},
   "source": [
    "## <font color=#33A5FF>****EJERCICIOS****<tfont>"
   ]
  },
  {
   "cell_type": "markdown",
   "metadata": {},
   "source": [
    "### Ejercicio 1 "
   ]
  },
  {
   "cell_type": "markdown",
   "metadata": {},
   "source": [
    "La tarea más habitual a la hora de trabajar con matplotlib es representar una función. Lo que tendremos que hacer es definir un dominio y evaluarla en dicho dominio. Por ejemplo:"
   ]
  },
  {
   "cell_type": "markdown",
   "metadata": {},
   "source": [
    "## $$ f(x) = e^{-x^2} $$"
   ]
  },
  {
   "cell_type": "markdown",
   "metadata": {},
   "source": [
    "Grafica resultante"
   ]
  },
  {
   "cell_type": "markdown",
   "metadata": {},
   "source": [
    "![ejercicio1](https://user-images.githubusercontent.com/19308295/117557841-fb905a80-b03c-11eb-8aa8-40b7980c9439.png)"
   ]
  },
  {
   "cell_type": "markdown",
   "metadata": {},
   "source": [
    "### Ejercicio 2:"
   ]
  },
  {
   "cell_type": "markdown",
   "metadata": {},
   "source": [
    "La función `plot` acepta una serie de argumentos para personalizar el aspecto de la función.\n",
    "\n",
    "De la gráfica anterior debe salir asi:"
   ]
  },
  {
   "cell_type": "markdown",
   "metadata": {},
   "source": [
    "![ejercicio2](https://user-images.githubusercontent.com/19308295/117557864-385c5180-b03d-11eb-8d48-088807aa5ea8.png)"
   ]
  },
  {
   "cell_type": "markdown",
   "metadata": {},
   "source": [
    "Investigar :\n",
    "\n",
    "$1 - f(x)$\n",
    "\n",
    "https://matplotlib.org/2.0.2/api/pyplot_api.html"
   ]
  },
  {
   "cell_type": "markdown",
   "metadata": {},
   "source": [
    "### Ejercicio 3:"
   ]
  },
  {
   "cell_type": "markdown",
   "metadata": {},
   "source": [
    "La función `scatter` muestra una nube de puntos, con posibilidad de variar también el tamaño y el color.\n",
    "\n",
    "llegando a gráficas asi:"
   ]
  },
  {
   "cell_type": "markdown",
   "metadata": {},
   "source": [
    "![ejercicio3-1](https://user-images.githubusercontent.com/19308295/117557869-4dd17b80-b03d-11eb-946b-c1a16d66f34c.png)\n",
    "\n",
    "\n",
    "![ejercicio3-2](https://user-images.githubusercontent.com/19308295/117557872-51650280-b03d-11eb-8fcd-08c351433eea.png)"
   ]
  },
  {
   "cell_type": "markdown",
   "metadata": {},
   "source": [
    "Con parametros `s` y `c` podemos modificar el tamaño y el color respectivamente. Para el color, a cada valor numérico se le asigna un color a través de un **mapa de colores**; ese mapa se puede cambiar con el argumento `cmap`. Esa correspondencia se puede visualizar llamando a la función `colorbar`."
   ]
  },
  {
   "cell_type": "markdown",
   "metadata": {},
   "source": [
    "### Ejercicio 4:"
   ]
  },
  {
   "cell_type": "markdown",
   "metadata": {},
   "source": [
    "Podemos crear figuras con varios sistemas de ejes, pasando a `subplot` el número de filas y de columnas. \n",
    "\n",
    "llegando a gráficas asi:"
   ]
  },
  {
   "cell_type": "markdown",
   "metadata": {},
   "source": [
    "![ejercicio4](https://user-images.githubusercontent.com/19308295/117557885-6772c300-b03d-11eb-8781-48a7bbd37e92.png)"
   ]
  },
  {
   "cell_type": "markdown",
   "metadata": {},
   "source": [
    "### Ejercicio 5:"
   ]
  },
  {
   "cell_type": "markdown",
   "metadata": {},
   "source": [
    "Crear una función que represente gráficamente esta expresión:\n",
    "\n",
    "$$\\sin(2 \\pi f_1 t) + \\sin(2 \\pi f_2 t)$$\n",
    "\n",
    "Siendo $f_1$ y $f_2$ argumentos de entrada (por defecto $10$ y $100$) y $t \\in [0, 0.5]$. Además, debe mostrar:\n",
    "\n",
    "* leyenda,\n",
    "* título \"Dos frecuencias\",\n",
    "* eje x \"Tiempo ($t$)\"\n",
    "\n",
    "y usar algún estilo de los disponibles,\n",
    "\n",
    "La grafica resultante es:"
   ]
  },
  {
   "cell_type": "markdown",
   "metadata": {},
   "source": [
    "![ejercicio5](https://user-images.githubusercontent.com/19308295/117557892-748fb200-b03d-11eb-8009-7c2ca5718ccb.png)"
   ]
  },
  {
   "cell_type": "code",
   "execution_count": 3,
   "metadata": {},
   "outputs": [
    {
     "data": {
      "image/png": "[encoded data removed]",
      "text/plain": [
       "<Figure size 1000x600 with 1 Axes>"
      ]
     },
     "metadata": {},
     "output_type": "display_data"
    }
   ],
   "source": [
    "import numpy as np\n",
    "import matplotlib.pyplot as plt\n",
    "\n",
    "def graficar_dos_frecuencias(f1=10, f2=100):\n",
    "    # Definir el intervalo de tiempo\n",
    "    t = np.linspace(0, 1000, 1000)\n",
    "    \n",
    "    # Calcular la función\n",
    "    y = np.sin(2 * np.pi * f1 * t/2) + np.sin(2 * np.pi * f2 * t/2)\n",
    "    \n",
    "    # Lo dividimos entre 2 para que en el tiempo  t sea desde 0 hasta 1000\n",
    "    \n",
    "    # Crear la gráfica de color rojo \n",
    "    plt.figure(figsize=(10, 6))\n",
    "    plt.plot(t, y, label='Señal', color='red')\n",
    "    \n",
    "    # Agregar título para el eje \"X\" - \"Y\"\n",
    "    plt.title('Dos frecuencias')\n",
    "    plt.xlabel('Tiempo (t)')\n",
    "    plt.legend()\n",
    "    \n",
    "    # Mostrar la gráfica\n",
    "    plt.show()\n",
    "\n",
    "# Llamar a la función\n",
    "graficar_dos_frecuencias()"
   ]
  },
  {
   "cell_type": "markdown",
   "metadata": {},
   "source": [
    "![linea 2](https://user-images.githubusercontent.com/19308295/115926262-2fb62980-a448-11eb-8189-c2f10e499944.png)"
   ]
  },
  {
   "cell_type": "markdown",
   "metadata": {},
   "source": [
    "## <font color=#33A5FF>****BIBLIOGRAFÍA****<tfont>"
   ]
  },
  {
   "cell_type": "markdown",
   "metadata": {},
   "source": [
    "[1] Guía de matplotlib https://matplotlib.org/stable/contents.html\n",
    "\n",
    "[2] Tutorial de matplotlib en español http://pybonacci.org/tag/tutorial-matplotlib-pyplot/\n",
    "\n",
    "[3] Referencia rápida de matplotlib https://scipy-lectures.org/intro/matplotlib/index.html"
   ]
  },
  {
   "cell_type": "markdown",
   "metadata": {},
   "source": [
    "![linea 1](https://user-images.githubusercontent.com/19308295/115926252-2b8a0c00-a448-11eb-9d9c-b43beaf0ff68.png)"
   ]
  }
 ],
 "metadata": {
  "kernelspec": {
   "display_name": "Python 3 (ipykernel)",
   "language": "python",
   "name": "python3"
  },
  "language_info": {
   "codemirror_mode": {
    "name": "ipython",
    "version": 3
   },
   "file_extension": ".py",
   "mimetype": "text/x-python",
   "name": "python",
   "nbconvert_exporter": "python",
   "pygments_lexer": "ipython3",
   "version": "3.11.7"
  }
 },
 "nbformat": 4,
 "nbformat_minor": 4
}
