{
 "cells": [
  {
   "cell_type": "code",
   "execution_count": 8,
   "id": "bddf1804",
   "metadata": {},
   "outputs": [
    {
     "name": "stdout",
     "output_type": "stream",
     "text": [
      "Primeras filas del DataFrame:\n",
      "   Alumno  Nota1  Nota2  Nota3  Promedio\n",
      "0   Maria   18.0     19     18        18\n",
      "1    Jose    8.0     15     11        11\n",
      "2    Juan   13.0     12     17        14\n",
      "3    Luis   10.0     19     18        16\n",
      "4  Carlos   16.0     12     10        13\n",
      "\n",
      "Subconjunto 1: alumno nota 1\n",
      "   Alumno  Nota1\n",
      "0   Maria   18.0\n",
      "1    Jose    8.0\n",
      "2    Juan   13.0\n",
      "3    Luis   10.0\n",
      "4  Carlos   16.0\n",
      "\n",
      "Subconjunto 2: nota 2,3 y promedio\n",
      "   Nota2  Nota3  Promedio\n",
      "0     19     18        18\n",
      "1     15     11        11\n",
      "2     12     17        14\n",
      "3     19     18        16\n",
      "4     12     10        13\n"
     ]
    }
   ],
   "source": [
    "import pandas as pd\n",
    "\n",
    "# Cambia la ruta del archivo según donde esté ubicado tu archivo CSV\n",
    "archivo_csv = 'DATA/notas.csv'\n",
    "\n",
    "# Carga el archivo CSV con separador punto y coma\n",
    "df = pd.read_csv(archivo_csv, sep=';')\n",
    "\n",
    "# Muestra las primeras filas del DataFrame para verificar la carga de datos\n",
    "print(\"Primeras filas del DataFrame:\")\n",
    "print(df.head())\n",
    "\n",
    "# Subconjunto: alumno y nota 1\n",
    "subset1 = df[['Alumno', 'Nota1']]\n",
    "print(\"\\nSubconjunto 1: alumno nota 1\")\n",
    "print(subset1.head())\n",
    "\n",
    "# Subconjunto: nota 2,3 y promedio\n",
    "subset2 = df[['Nota2', 'Nota3', 'Promedio']]\n",
    "print(\"\\nSubconjunto 2: nota 2,3 y promedio\")\n",
    "print(subset2.head())\n"
   ]
  },
  {
   "cell_type": "code",
   "execution_count": null,
   "id": "76b402ce",
   "metadata": {},
   "outputs": [],
   "source": []
  }
 ],
 "metadata": {
  "kernelspec": {
   "display_name": "Python 3 (ipykernel)",
   "language": "python",
   "name": "python3"
  },
  "language_info": {
   "codemirror_mode": {
    "name": "ipython",
    "version": 3
   },
   "file_extension": ".py",
   "mimetype": "text/x-python",
   "name": "python",
   "nbconvert_exporter": "python",
   "pygments_lexer": "ipython3",
   "version": "3.11.5"
  }
 },
 "nbformat": 4,
 "nbformat_minor": 5
}
