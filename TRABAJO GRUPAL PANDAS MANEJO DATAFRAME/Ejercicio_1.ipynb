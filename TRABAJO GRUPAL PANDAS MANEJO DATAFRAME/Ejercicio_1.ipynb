{
 "cells": [
  {
   "cell_type": "markdown",
   "metadata": {},
   "source": [
    "### Ejercicio 1 - Investigar Como? Abrir archivo `xlsx`"
   ]
  },
  {
   "cell_type": "markdown",
   "metadata": {},
   "source": [
    "<div class=\"well\">Abrilr el archivo <code>titanic.xlsx</code> (archivo en carpeta /data)\n",
    "    \n",
    "   1.- <strong>Usar nueva librería!!.</strong>\n",
    "\n",
    "   2.- <strong>Explorar la data.</strong>\n",
    "</div>"
   ]
  },
  {
   "cell_type": "code",
   "execution_count": 6,
   "metadata": {},
   "outputs": [
    {
     "name": "stdout",
     "output_type": "stream",
     "text": [
      "Hojas en el archivo: ['complete', 'numeric']\n",
      "Primeras 10 filas de la hoja seleccionada:\n",
      "   pclass  survived                                             name     sex  \\\n",
      "0       1         1                                   Haghish, E. F.    male   \n",
      "1       1         1                    Allen, Miss. Elisabeth Walton  female   \n",
      "2       1         1                   Allison, Master. Hudson Trevor    male   \n",
      "3       1         0                     Allison, Miss. Helen Loraine  female   \n",
      "4       1         0             Allison, Mr. Hudson Joshua Creighton    male   \n",
      "5       1         0  Allison, Mrs. Hudson J C (Bessie Waldo Daniels)  female   \n",
      "6       1         1                              Anderson, Mr. Harry    male   \n",
      "7       1         1                Andrews, Miss. Kornelia Theodosia  female   \n",
      "8       1         0                           Andrews, Mr. Thomas Jr    male   \n",
      "9       1         1    Appleton, Mrs. Edward Dale (Charlotte Lamson)  female   \n",
      "\n",
      "       age  sibsp  parch  ticket      fare       cabin embarked boat   body  \\\n",
      "0  30.0000      0      0   24058   26.5500  A1 Special        S    1    NaN   \n",
      "1  29.0000      0      0   24160  211.3375          B5        S    2    NaN   \n",
      "2   0.9167      1      2  113781  151.5500     C22 C26        S   11    NaN   \n",
      "3   2.0000      1      2  113781  151.5500     C22 C26        S  NaN    NaN   \n",
      "4  30.0000      1      2  113781  151.5500     C22 C26        S  NaN  135.0   \n",
      "5  25.0000      1      2  113781  151.5500     C22 C26        S  NaN    NaN   \n",
      "6  48.0000      0      0   19952   26.5500         E12        S    3    NaN   \n",
      "7  63.0000      1      0   13502   77.9583          D7        S   10    NaN   \n",
      "8  39.0000      0      0  112050    0.0000         A36        S  NaN    NaN   \n",
      "9  53.0000      2      0   11769   51.4792        C101        S    D    NaN   \n",
      "\n",
      "                         home.dest  \n",
      "0                  Odense, Denmark  \n",
      "1                     St Louis, MO  \n",
      "2  Montreal, PQ / Chesterville, ON  \n",
      "3  Montreal, PQ / Chesterville, ON  \n",
      "4  Montreal, PQ / Chesterville, ON  \n",
      "5  Montreal, PQ / Chesterville, ON  \n",
      "6                     New York, NY  \n",
      "7                       Hudson, NY  \n",
      "8                      Belfast, NI  \n",
      "9              Bayside, Queens, NY  \n"
     ]
    },
    {
     "name": "stderr",
     "output_type": "stream",
     "text": [
      "C:\\Users\\emman\\anaconda3\\Lib\\site-packages\\openpyxl\\worksheet\\_read_only.py:79: UserWarning: Unknown extension is not supported and will be removed\n",
      "  for idx, row in parser.parse():\n"
     ]
    }
   ],
   "source": [
    "import pandas as pd\n",
    "\n",
    "# Especifica la ruta al archivo\n",
    "archivo_excel = 'DATA/titanic.xlsx'\n",
    "\n",
    "\n",
    "# Carga el archivo Excel en un objeto ExcelFile\n",
    "excel_file = pd.ExcelFile(archivo_excel)\n",
    "\n",
    "# Mostrar las hojas del archivo\n",
    "sheet_names = excel_file.sheet_names\n",
    "print(\"Hojas en el archivo:\", sheet_names)\n",
    "\n",
    "# Seleccionar la primera hoja\n",
    "df = pd.read_excel(excel_file, sheet_name=sheet_names[0])\n",
    "\n",
    "# Mostrar algunas filas para explorar la data\n",
    "print(\"Primeras 10 filas de la hoja seleccionada:\")\n",
    "print(df.head(10))\n"
   ]
  },
  {
   "cell_type": "code",
   "execution_count": null,
   "metadata": {},
   "outputs": [],
   "source": []
  }
 ],
 "metadata": {
  "kernelspec": {
   "display_name": "Python 3 (ipykernel)",
   "language": "python",
   "name": "python3"
  },
  "language_info": {
   "codemirror_mode": {
    "name": "ipython",
    "version": 3
   },
   "file_extension": ".py",
   "mimetype": "text/x-python",
   "name": "python",
   "nbconvert_exporter": "python",
   "pygments_lexer": "ipython3",
   "version": "3.11.5"
  }
 },
 "nbformat": 4,
 "nbformat_minor": 2
}
