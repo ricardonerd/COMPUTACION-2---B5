{
 "cells": [
  {
   "cell_type": "markdown",
   "metadata": {},
   "source": [
    "<center> <h1>Universidad Nacional de San Agustín de Arequipa</h1> </center> \n",
    "<center> <h1>Escuela Profesional de Ingeniería de Telecomunicaciones</h1> </center> \n",
    "\n",
    "<center> <h1> </h1> </center> \n",
    "\n",
    "<center><img src=\"https://user-images.githubusercontent.com/19308295/115939517-f1c6fe80-a463-11eb-989c-812ab4942586.png\" width=\"380\" height=\"4200\"></center>"
   ]
  },
  {
   "cell_type": "markdown",
   "metadata": {},
   "source": [
    "<center> <h2>Ingeniero Renzo Bolivar - Docente DAIE</h2> </center> "
   ]
  },
  {
   "cell_type": "markdown",
   "metadata": {},
   "source": [
    "<center> <h1>Curso : Computación 2</h1> </center> "
   ]
  },
  {
   "cell_type": "markdown",
   "metadata": {},
   "source": [
    "![linea 2](https://user-images.githubusercontent.com/19308295/115926262-2fb62980-a448-11eb-8189-c2f10e499944.png)"
   ]
  },
  {
   "cell_type": "markdown",
   "metadata": {},
   "source": [
    "## <font color=#33A5FF>****EJERCICIOS****<tfont>"
   ]
  },
  {
   "cell_type": "markdown",
   "metadata": {},
   "source": [
    "### Ejercicio 4 - Investigar Como?  Seleccionar Filas y Columnas"
   ]
  },
  {
   "cell_type": "markdown",
   "metadata": {},
   "source": [
    "<div class=\"well\">Crear <strong>Selección</strong> del DataFrame con: \n",
    "   \n",
    "   1.-Selección de los <strong>nombres</strong> de pasajeros <strong>mayores de 30 años.</strong>\n",
    "   \n",
    "   2.-Selección de los <strong>nombres</strong> de las <strong>mujeres</strong> que tienen familiares que abordaron el titanic.\n",
    "    \n",
    "   3.-Selección de las <strong>filas 0 a 10 y las columnas 2 a 6.</strong>\n",
    "    \n",
    "   \n",
    "</div>"
   ]
  },
  {
   "cell_type": "code",
   "execution_count": 38,
   "metadata": {},
   "outputs": [],
   "source": [
    "import pandas as pd"
   ]
  },
  {
   "cell_type": "code",
   "execution_count": 49,
   "metadata": {},
   "outputs": [
    {
     "name": "stdout",
     "output_type": "stream",
     "text": [
      "1      Cumings, Mrs. John Bradley (Florence Briggs Th...\n",
      "3           Futrelle, Mrs. Jacques Heath (Lily May Peel)\n",
      "4                               Allen, Mr. William Henry\n",
      "6                                McCarthy, Mr. Timothy J\n",
      "11                              Bonnell, Miss. Elizabeth\n",
      "13                           Andersson, Mr. Anders Johan\n",
      "15                      Hewlett, Mrs. (Mary D Kingcome) \n",
      "18     Vander Planke, Mrs. Julius (Emelia Maria Vande...\n",
      "20                                  Fynney, Mr. Joseph J\n",
      "21                                 Beesley, Mr. Lawrence\n",
      "25     Asplund, Mrs. Carl Oscar (Selma Augusta Emilia...\n",
      "30                              Uruchurtu, Don. Manuel E\n",
      "33                                 Wheadon, Mr. Edward H\n",
      "35                        Holverson, Mr. Alexander Oskar\n",
      "40        Ahlin, Mrs. Johan (Johanna Persdotter Larsson)\n",
      "52              Harper, Mrs. Henry Sleeper (Myna Haxtun)\n",
      "54                        Ostby, Mr. Engelhart Cornelius\n",
      "61                                   Icard, Miss. Amelie\n",
      "62                           Harris, Mr. Henry Birkhardt\n",
      "70                            Jenkin, Mr. Stephen Curnow\n",
      "74                                         Bing, Mr. Lee\n",
      "85     Backstrom, Mrs. Karl Alfred (Maria Mathilda Gu...\n",
      "92                           Chaffee, Mr. Herbert Fuller\n",
      "94                                     Coxon, Mr. Daniel\n",
      "96                             Goldschmidt, Mr. George B\n",
      "98                  Doling, Mrs. John T (Ada Julia Bone)\n",
      "99                                     Kantor, Mr. Sinai\n",
      "103                           Johansson, Mr. Gustaf Joel\n",
      "104                       Gustafsson, Mr. Anders Vilhelm\n",
      "108                                      Rekic, Mr. Tido\n",
      "110                       Porter, Mr. Walter Chamberlain\n",
      "116                                 Connors, Mr. Patrick\n",
      "122                                 Nasser, Mr. Nicholas\n",
      "123                                  Webber, Miss. Susan\n",
      "124                          White, Mr. Percival Wayland\n",
      "129                                   Ekstrom, Mr. Johan\n",
      "130                                 Drazenoic, Mr. Jozef\n",
      "132       Robins, Mrs. Alexander A (Grace Charity Laury)\n",
      "137                          Futrelle, Mr. Jacques Heath\n",
      "148             Navratil, Mr. Michel (\"Louis M Hoffman\")\n",
      "149                    Byles, Rev. Thomas Roussel Davids\n",
      "150                           Bateman, Rev. Robert James\n",
      "152                                     Meo, Mr. Alfonzo\n",
      "153                      van Billiard, Mr. Austin Blyler\n",
      "155                          Williams, Mr. Charles Duane\n",
      "Name: Name, dtype: object\n"
     ]
    }
   ],
   "source": [
    "# Leer los datos\n",
    "pasajeros = pd.read_csv('DATA/titanic_tabs.csv', sep = '\\t')\n",
    "# Seleccionar nombres de los pasajeros mayores a 30 años\n",
    "pasajeros_mayores_30 = pasajeros[pasajeros['Age'] > 30]['Name']\n",
    "# Imprimir los nombres de los pasajeros mayores a 30 años\n",
    "print(pasajeros_mayores_30)"
   ]
  },
  {
   "cell_type": "code",
   "execution_count": 46,
   "metadata": {},
   "outputs": [
    {
     "name": "stdout",
     "output_type": "stream",
     "text": [
      "Nombres de mujeres con familiares a bordo:\n",
      "1      Cumings, Mrs. John Bradley (Florence Briggs Th...\n",
      "3           Futrelle, Mrs. Jacques Heath (Lily May Peel)\n",
      "8      Johnson, Mrs. Oscar W (Elisabeth Vilhelmina Berg)\n",
      "9                    Nasser, Mrs. Nicholas (Adele Achem)\n",
      "10                       Sandstrom, Miss. Marguerite Rut\n",
      "18     Vander Planke, Mrs. Julius (Emelia Maria Vande...\n",
      "24                         Palsson, Miss. Torborg Danira\n",
      "25     Asplund, Mrs. Carl Oscar (Selma Augusta Emilia...\n",
      "31        Spencer, Mrs. William Augustus (Marie Eugenie)\n",
      "38                    Vander Planke, Miss. Augusta Maria\n",
      "39                           Nicola-Yarred, Miss. Jamila\n",
      "40        Ahlin, Mrs. Johan (Johanna Persdotter Larsson)\n",
      "41     Turpin, Mrs. William John Robert (Dorothy Ann ...\n",
      "43              Laroche, Miss. Simonne Marie Anne Andree\n",
      "49         Arnold-Franchi, Mrs. Josef (Josefine Franchi)\n",
      "52              Harper, Mrs. Henry Sleeper (Myna Haxtun)\n",
      "53     Faunthorpe, Mrs. Lizzie (Elizabeth Anne Wilkin...\n",
      "58                          West, Miss. Constance Mirium\n",
      "68                       Andersson, Miss. Erna Alexandra\n",
      "71                            Goodwin, Miss. Lillian Amy\n",
      "85     Backstrom, Mrs. Karl Alfred (Maria Mathilda Gu...\n",
      "88                            Fortune, Miss. Mabel Helen\n",
      "98                  Doling, Mrs. John T (Ada Julia Bone)\n",
      "109                                  Moran, Miss. Bertha\n",
      "111                                 Zabour, Miss. Hileni\n",
      "113                              Jussila, Miss. Katriina\n",
      "119                    Andersson, Miss. Ellis Anna Maria\n",
      "128                                    Peter, Miss. Anna\n",
      "132       Robins, Mrs. Alexander A (Grace Charity Laury)\n",
      "133        Weisz, Mrs. Leopold (Mathilde Francoise Pede)\n",
      "136                         Newsom, Miss. Helen Monypeny\n",
      "140                        Boulos, Mrs. Joseph (Sultana)\n",
      "142    Hakkarainen, Mrs. Pekka Pietari (Elin Matilda ...\n",
      "147                     Ford, Miss. Robina Maggie \"Ruby\"\n",
      "151                    Pears, Mrs. Thomas (Edith Wearne)\n",
      "Name: Name, dtype: object\n"
     ]
    }
   ],
   "source": [
    "# Selección de los nombres de las mujeres que tienen familiares que abordaron el Titanic\n",
    "mujeres= pasajeros[(pasajeros['Sex'] == 'female') \n",
    "                                   & ((pasajeros['SibSp'] > 0) | \n",
    "                                      (pasajeros['Parch'] > 0))]['Name']\n",
    "print('Nombres de mujeres con familiares a bordo:')\n",
    "print(mujeres)"
   ]
  },
  {
   "cell_type": "code",
   "execution_count": 48,
   "metadata": {},
   "outputs": [
    {
     "name": "stdout",
     "output_type": "stream",
     "text": [
      "Filas 0 a 10 y columnas 2 a 6:\n",
      "    Pclass                                               Name     Sex   Age  \\\n",
      "0        3                            Braund, Mr. Owen Harris    male  22.0   \n",
      "1        1  Cumings, Mrs. John Bradley (Florence Briggs Th...  female  38.0   \n",
      "2        3                             Heikkinen, Miss. Laina  female  26.0   \n",
      "3        1       Futrelle, Mrs. Jacques Heath (Lily May Peel)  female  35.0   \n",
      "4        3                           Allen, Mr. William Henry    male  35.0   \n",
      "5        3                                   Moran, Mr. James    male   NaN   \n",
      "6        1                            McCarthy, Mr. Timothy J    male  54.0   \n",
      "7        3                     Palsson, Master. Gosta Leonard    male   2.0   \n",
      "8        3  Johnson, Mrs. Oscar W (Elisabeth Vilhelmina Berg)  female  27.0   \n",
      "9        2                Nasser, Mrs. Nicholas (Adele Achem)  female  14.0   \n",
      "10       3                    Sandstrom, Miss. Marguerite Rut  female   4.0   \n",
      "\n",
      "    SibSp  \n",
      "0       1  \n",
      "1       1  \n",
      "2       0  \n",
      "3       1  \n",
      "4       0  \n",
      "5       0  \n",
      "6       0  \n",
      "7       3  \n",
      "8       0  \n",
      "9       1  \n",
      "10      1  \n"
     ]
    }
   ],
   "source": [
    "# 3. Selección de las filas 0 a 10 y las columnas 2 a 6\n",
    "seleccion= pasajeros.iloc[0:11, 2:7]\n",
    "print('Filas 0 a 10 y columnas 2 a 6:')\n",
    "print(seleccion)\n"
   ]
  },
  {
   "cell_type": "markdown",
   "metadata": {},
   "source": [
    "![linea 2](https://user-images.githubusercontent.com/19308295/115926262-2fb62980-a448-11eb-8189-c2f10e499944.png)"
   ]
  }
 ],
 "metadata": {
  "kernelspec": {
   "display_name": "Python 3 (ipykernel)",
   "language": "python",
   "name": "python3"
  },
  "language_info": {
   "codemirror_mode": {
    "name": "ipython",
    "version": 3
   },
   "file_extension": ".py",
   "mimetype": "text/x-python",
   "name": "python",
   "nbconvert_exporter": "python",
   "pygments_lexer": "ipython3",
   "version": "3.11.7"
  }
 },
 "nbformat": 4,
 "nbformat_minor": 4
}
