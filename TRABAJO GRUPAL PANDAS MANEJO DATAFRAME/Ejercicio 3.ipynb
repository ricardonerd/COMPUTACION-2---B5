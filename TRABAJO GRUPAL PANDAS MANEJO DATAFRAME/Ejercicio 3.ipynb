{
 "cells": [
  {
   "cell_type": "markdown",
   "metadata": {},
   "source": [
    "## <font color=#33A5FF>****EJERCICIOS****<tfont>"
   ]
  },
  {
   "cell_type": "markdown",
   "metadata": {},
   "source": [
    "### Ejercicio 3 - Investigar Como? Filtrar"
   ]
  },
  {
   "cell_type": "code",
   "execution_count": 17,
   "metadata": {},
   "outputs": [],
   "source": [
    "import pandas as pd"
   ]
  },
  {
   "cell_type": "markdown",
   "metadata": {},
   "source": [
    " 1.-Selección de los <strong>hombres</strong> que abordaron el titanic.\n",
    "    \n",
    "</div>"
   ]
  },
  {
   "cell_type": "code",
   "execution_count": 18,
   "metadata": {},
   "outputs": [
    {
     "name": "stdout",
     "output_type": "stream",
     "text": [
      "   Id_Pasajero  Survived  Clase                          Nombre       Sexo  \\\n",
      "0            1         0      3         Braund, Mr. Owen Harris  Masculino   \n",
      "4            5         0      3        Allen, Mr. William Henry  Masculino   \n",
      "5            6         0      3                Moran, Mr. James  Masculino   \n",
      "6            7         0      1         McCarthy, Mr. Timothy J  Masculino   \n",
      "7            8         0      3  Palsson, Master. Gosta Leonard  Masculino   \n",
      "\n",
      "   Edad  Familiares    Tiquete  Tarifa Cabina Embarcado  \n",
      "0  22.0           0  A/5 21171    7.25    NaN         S  \n",
      "4  35.0           0     373450    8.05    NaN         S  \n",
      "5   NaN           0     330877    8.46    NaN         Q  \n",
      "6  54.0           0      17463   51.86    E46         S  \n",
      "7   2.0           1     349909   21.08    NaN         S  \n"
     ]
    }
   ],
   "source": [
    "# Leer el archivo de Excel\n",
    "data = pd.read_excel(\"data/titanic.xlsx\")\n",
    "\n",
    "# Filtrar solo hombres \n",
    "filtro_hombres = (data[\"Sexo\"] == \"Masculino\")\n",
    "\n",
    "hombres_titanic = data[filtro_hombres] \n",
    "\n",
    "# Mostrar los primeros 5 del DataFrame \n",
    "print(hombres_titanic.head())"
   ]
  },
  {
   "cell_type": "markdown",
   "metadata": {},
   "source": [
    "2.-Selección de las <strong>mujeres</strong> que abordaron el titanic.\n",
    "    \n",
    "</div>"
   ]
  },
  {
   "cell_type": "code",
   "execution_count": 19,
   "metadata": {},
   "outputs": [
    {
     "name": "stdout",
     "output_type": "stream",
     "text": [
      "   Id_Pasajero  Survived  Clase  \\\n",
      "1            2         1      1   \n",
      "2            3         1      3   \n",
      "3            4         1      1   \n",
      "8            9         1      3   \n",
      "9           10         1      2   \n",
      "\n",
      "                                              Nombre      Sexo  Edad  \\\n",
      "1  Cumings, Mrs. John Bradley (Florence Briggs Th...  Femenino  38.0   \n",
      "2                             Heikkinen, Miss. Laina  Femenino  26.0   \n",
      "3       Futrelle, Mrs. Jacques Heath (Lily May Peel)  Femenino  35.0   \n",
      "8  Johnson, Mrs. Oscar W (Elisabeth Vilhelmina Berg)  Femenino  27.0   \n",
      "9                Nasser, Mrs. Nicholas (Adele Achem)  Femenino  14.0   \n",
      "\n",
      "   Familiares           Tiquete  Tarifa Cabina Embarcado  \n",
      "1           0          PC 17599   71.28    C85         C  \n",
      "2           0  STON/O2. 3101282    7.93    NaN         S  \n",
      "3           0            113803   53.10   C123         S  \n",
      "8           2            347742   11.13    NaN         S  \n",
      "9           0            237736   30.07    NaN         C  \n"
     ]
    }
   ],
   "source": [
    "# Leer el archivo de Excel\n",
    "data = pd.read_excel(\"data/titanic.xlsx\")\n",
    "\n",
    "# Filtrar solo mujeres \n",
    "filtro_mujeres = (data[\"Sexo\"] == \"Femenino\") \n",
    "\n",
    "mujeres_titanic = data[filtro_mujeres]  \n",
    "\n",
    "# Mostrar los primeros 5 del DataFrame \n",
    "print(mujeres_titanic.head())"
   ]
  },
  {
   "cell_type": "markdown",
   "metadata": {},
   "source": [
    " 3.-Personas con <strong>mas de 30 años</strong> que abordaron el titanic.    \n",
    "</div>"
   ]
  },
  {
   "cell_type": "code",
   "execution_count": 20,
   "metadata": {},
   "outputs": [
    {
     "name": "stdout",
     "output_type": "stream",
     "text": [
      "    Id_Pasajero  Survived  Clase  \\\n",
      "1             2         1      1   \n",
      "3             4         1      1   \n",
      "4             5         0      3   \n",
      "6             7         0      1   \n",
      "11           12         1      1   \n",
      "\n",
      "                                               Nombre       Sexo  Edad  \\\n",
      "1   Cumings, Mrs. John Bradley (Florence Briggs Th...   Femenino  38.0   \n",
      "3        Futrelle, Mrs. Jacques Heath (Lily May Peel)   Femenino  35.0   \n",
      "4                            Allen, Mr. William Henry  Masculino  35.0   \n",
      "6                             McCarthy, Mr. Timothy J  Masculino  54.0   \n",
      "11                           Bonnell, Miss. Elizabeth   Femenino  58.0   \n",
      "\n",
      "    Familiares   Tiquete  Tarifa Cabina Embarcado  \n",
      "1            0  PC 17599   71.28    C85         C  \n",
      "3            0    113803   53.10   C123         S  \n",
      "4            0    373450    8.05    NaN         S  \n",
      "6            0     17463   51.86    E46         S  \n",
      "11           0    113783   26.55   C103         S  \n"
     ]
    }
   ],
   "source": [
    "# Leer el archivo de Excel\n",
    "data = pd.read_excel(\"data/titanic.xlsx\")\n",
    "\n",
    "# Filtrar personas mayores de 30 años \n",
    "filtro_edad = (data[\"Edad\"] > 30) \n",
    "\n",
    "mayores_30_titanic = data[filtro_edad] \n",
    "\n",
    "# Mostrar los primeros 5 del DataFrame \n",
    "print(mayores_30_titanic.head())"
   ]
  },
  {
   "cell_type": "markdown",
   "metadata": {},
   "source": [
    "4.-Personas que <strong>pertenecen a la clase 1 y 2</strong> del titanic.\n",
    "    \n",
    "</div>"
   ]
  },
  {
   "cell_type": "code",
   "execution_count": 22,
   "metadata": {},
   "outputs": [
    {
     "name": "stdout",
     "output_type": "stream",
     "text": [
      "    Id_Pasajero  Survived  Clase  \\\n",
      "1             2         1      1   \n",
      "3             4         1      1   \n",
      "6             7         0      1   \n",
      "9            10         1      2   \n",
      "11           12         1      1   \n",
      "\n",
      "                                               Nombre       Sexo  Edad  \\\n",
      "1   Cumings, Mrs. John Bradley (Florence Briggs Th...   Femenino  38.0   \n",
      "3        Futrelle, Mrs. Jacques Heath (Lily May Peel)   Femenino  35.0   \n",
      "6                             McCarthy, Mr. Timothy J  Masculino  54.0   \n",
      "9                 Nasser, Mrs. Nicholas (Adele Achem)   Femenino  14.0   \n",
      "11                           Bonnell, Miss. Elizabeth   Femenino  58.0   \n",
      "\n",
      "    Familiares   Tiquete  Tarifa Cabina Embarcado  \n",
      "1            0  PC 17599   71.28    C85         C  \n",
      "3            0    113803   53.10   C123         S  \n",
      "6            0     17463   51.86    E46         S  \n",
      "9            0    237736   30.07    NaN         C  \n",
      "11           0    113783   26.55   C103         S  \n"
     ]
    }
   ],
   "source": [
    "# Leer el archivo de Excel\n",
    "data = pd.read_excel(\"data/titanic.xlsx\")\n",
    "\n",
    "# Filtrar personas que pertenecen a la clase 1 y 2 \n",
    "filtro_clase = data[\"Clase\"].isin([1, 2]) \n",
    "\n",
    "clase_1_2_titanic = data[filtro_clase] \n",
    "\n",
    "# Mostrar los primeros 5  del DataFrame \n",
    "print(clase_1_2_titanic.head())"
   ]
  },
  {
   "cell_type": "markdown",
   "metadata": {},
   "source": [
    "5.-Personas que <strong>registraron su edad.</strong>\n",
    "    \n",
    "</div>"
   ]
  },
  {
   "cell_type": "code",
   "execution_count": 23,
   "metadata": {},
   "outputs": [
    {
     "name": "stdout",
     "output_type": "stream",
     "text": [
      "   Id_Pasajero  Survived  Clase  \\\n",
      "0            1         0      3   \n",
      "1            2         1      1   \n",
      "2            3         1      3   \n",
      "3            4         1      1   \n",
      "4            5         0      3   \n",
      "\n",
      "                                              Nombre       Sexo  Edad  \\\n",
      "0                            Braund, Mr. Owen Harris  Masculino  22.0   \n",
      "1  Cumings, Mrs. John Bradley (Florence Briggs Th...   Femenino  38.0   \n",
      "2                             Heikkinen, Miss. Laina   Femenino  26.0   \n",
      "3       Futrelle, Mrs. Jacques Heath (Lily May Peel)   Femenino  35.0   \n",
      "4                           Allen, Mr. William Henry  Masculino  35.0   \n",
      "\n",
      "   Familiares           Tiquete  Tarifa Cabina Embarcado  \n",
      "0           0         A/5 21171    7.25    NaN         S  \n",
      "1           0          PC 17599   71.28    C85         C  \n",
      "2           0  STON/O2. 3101282    7.93    NaN         S  \n",
      "3           0            113803   53.10   C123         S  \n",
      "4           0            373450    8.05    NaN         S  \n"
     ]
    }
   ],
   "source": [
    "# Leer el archivo de Excel\n",
    "data = pd.read_excel(\"data/titanic.xlsx\")\n",
    "\n",
    "# Filtrar personas que registraron su edad\n",
    "filtro_edad_registrada = data[\"Edad\"].notnull() \n",
    "\n",
    "edad_registrada_titanic = data[filtro_edad_registrada]  \n",
    "\n",
    "# Mostrar los primeros 5 del DataFrame \n",
    "print(edad_registrada_titanic.head())"
   ]
  }
 ],
 "metadata": {
  "kernelspec": {
   "display_name": "Python 3 (ipykernel)",
   "language": "python",
   "name": "python3"
  },
  "language_info": {
   "codemirror_mode": {
    "name": "ipython",
    "version": 3
   },
   "file_extension": ".py",
   "mimetype": "text/x-python",
   "name": "python",
   "nbconvert_exporter": "python",
   "pygments_lexer": "ipython3",
   "version": "3.11.7"
  },
  "widgets": {
   "application/vnd.jupyter.widget-state+json": {
    "state": {},
    "version_major": 2,
    "version_minor": 0
   }
  }
 },
 "nbformat": 4,
 "nbformat_minor": 4
}
