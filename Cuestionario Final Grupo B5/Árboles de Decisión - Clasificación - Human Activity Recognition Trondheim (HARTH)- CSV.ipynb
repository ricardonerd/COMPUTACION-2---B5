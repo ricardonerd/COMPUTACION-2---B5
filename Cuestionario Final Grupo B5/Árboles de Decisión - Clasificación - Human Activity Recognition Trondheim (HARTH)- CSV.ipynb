{
 "cells": [
  {
   "cell_type": "markdown",
   "metadata": {},
   "source": [
    "<center> <h1>Universidad Nacional de San Agustín de Arequipa</h1> </center> \n",
    "<center> <h1>Escuela Profesional de Ingeniería de Telecomunicaciones</h1> </center> \n",
    "\n",
    "<center> <h1> </h1> </center> \n",
    "\n",
    "<center><img src=\"https://user-images.githubusercontent.com/19308295/115939517-f1c6fe80-a463-11eb-989c-812ab4942586.png\" width=\"380\" height=\"4200\"></center>"
   ]
  },
  {
   "cell_type": "markdown",
   "metadata": {},
   "source": [
    "<center> <h2>Ingeniero Renzo Bolivar - Docente DAIE</h2> </center> "
   ]
  },
  {
   "cell_type": "markdown",
   "metadata": {},
   "source": [
    "<center> <h1>Curso : Computación 2</h1> </center> "
   ]
  },
  {
   "cell_type": "markdown",
   "metadata": {},
   "source": [
    "![linea 1](https://user-images.githubusercontent.com/19308295/115926252-2b8a0c00-a448-11eb-9d9c-b43beaf0ff68.png)"
   ]
  },
  {
   "cell_type": "markdown",
   "metadata": {},
   "source": [
    "<center> <h2>Integrantes: </h2> </center> \n",
    "\n",
    "<h1>\n",
    "\n",
    "- Butrón Benites Ricardo Alonso\n",
    "\n",
    "- Lupaca Sancja Damaris Dana\n",
    "\n",
    "- Quea Carlo Kevin Baltazar\n",
    "\n",
    "- Zapata Mestas Emmauel Zapata\n",
    "\n",
    "</h1> "
   ]
  },
  {
   "cell_type": "markdown",
   "metadata": {},
   "source": [
    "## Librerías a utilizar"
   ]
  },
  {
   "cell_type": "code",
   "execution_count": 5,
   "metadata": {},
   "outputs": [],
   "source": [
    "#Se importan la librerias a utilizar\n",
    "import pandas as pd\n",
    "import numpy as np\n",
    "from sklearn.model_selection import train_test_split\n",
    "from sklearn.tree import DecisionTreeClassifier\n",
    "from sklearn.tree import export_graphviz\n",
    "import graphviz\n",
    "import matplotlib.pyplot as plt"
   ]
  },
  {
   "cell_type": "markdown",
   "metadata": {
    "jp-MarkdownHeadingCollapsed": true
   },
   "source": [
    "## LINK DATOS\n",
    "https://www.kaggle.com/datasets/luisdiegofv97/imdb-dataset-of-50k-movie-reviews-spanish"
   ]
  },
  {
   "cell_type": "markdown",
   "metadata": {},
   "source": [
    "## Importación de datos"
   ]
  },
  {
   "cell_type": "code",
   "execution_count": 9,
   "metadata": {},
   "outputs": [],
   "source": [
    "dataset = pd.read_csv(\"data/test.csv\")"
   ]
  },
  {
   "cell_type": "code",
   "execution_count": 10,
   "metadata": {},
   "outputs": [
    {
     "data": {
      "text/html": [
       "<div>\n",
       "<style scoped>\n",
       "    .dataframe tbody tr th:only-of-type {\n",
       "        vertical-align: middle;\n",
       "    }\n",
       "\n",
       "    .dataframe tbody tr th {\n",
       "        vertical-align: top;\n",
       "    }\n",
       "\n",
       "    .dataframe thead th {\n",
       "        text-align: right;\n",
       "    }\n",
       "</style>\n",
       "<table border=\"1\" class=\"dataframe\">\n",
       "  <thead>\n",
       "    <tr style=\"text-align: right;\">\n",
       "      <th></th>\n",
       "      <th>Feature_1</th>\n",
       "      <th>Feature_2</th>\n",
       "      <th>Feature_3</th>\n",
       "      <th>Feature_4</th>\n",
       "      <th>Feature_5</th>\n",
       "      <th>Feature_6</th>\n",
       "      <th>Activity</th>\n",
       "    </tr>\n",
       "  </thead>\n",
       "  <tbody>\n",
       "    <tr>\n",
       "      <th>0</th>\n",
       "      <td>-1.028626</td>\n",
       "      <td>-0.105919</td>\n",
       "      <td>-0.264525</td>\n",
       "      <td>-1.235359</td>\n",
       "      <td>-0.162986</td>\n",
       "      <td>-0.483125</td>\n",
       "      <td>1.0</td>\n",
       "    </tr>\n",
       "    <tr>\n",
       "      <th>1</th>\n",
       "      <td>-1.046406</td>\n",
       "      <td>-0.061666</td>\n",
       "      <td>-0.255959</td>\n",
       "      <td>-1.074173</td>\n",
       "      <td>-0.275747</td>\n",
       "      <td>-0.387487</td>\n",
       "      <td>1.0</td>\n",
       "    </tr>\n",
       "    <tr>\n",
       "      <th>2</th>\n",
       "      <td>-1.009987</td>\n",
       "      <td>-0.054528</td>\n",
       "      <td>-0.205398</td>\n",
       "      <td>-0.803832</td>\n",
       "      <td>-0.282078</td>\n",
       "      <td>-0.316955</td>\n",
       "      <td>1.0</td>\n",
       "    </tr>\n",
       "    <tr>\n",
       "      <th>3</th>\n",
       "      <td>-0.988288</td>\n",
       "      <td>-0.080090</td>\n",
       "      <td>-0.184195</td>\n",
       "      <td>-0.735864</td>\n",
       "      <td>-0.302880</td>\n",
       "      <td>-0.239320</td>\n",
       "      <td>1.0</td>\n",
       "    </tr>\n",
       "    <tr>\n",
       "      <th>4</th>\n",
       "      <td>-0.933698</td>\n",
       "      <td>-0.110635</td>\n",
       "      <td>-0.185413</td>\n",
       "      <td>-0.703047</td>\n",
       "      <td>-0.189211</td>\n",
       "      <td>-0.102410</td>\n",
       "      <td>1.0</td>\n",
       "    </tr>\n",
       "  </tbody>\n",
       "</table>\n",
       "</div>"
      ],
      "text/plain": [
       "   Feature_1  Feature_2  Feature_3  Feature_4  Feature_5  Feature_6  Activity\n",
       "0  -1.028626  -0.105919  -0.264525  -1.235359  -0.162986  -0.483125       1.0\n",
       "1  -1.046406  -0.061666  -0.255959  -1.074173  -0.275747  -0.387487       1.0\n",
       "2  -1.009987  -0.054528  -0.205398  -0.803832  -0.282078  -0.316955       1.0\n",
       "3  -0.988288  -0.080090  -0.184195  -0.735864  -0.302880  -0.239320       1.0\n",
       "4  -0.933698  -0.110635  -0.185413  -0.703047  -0.189211  -0.102410       1.0"
      ]
     },
     "execution_count": 10,
     "metadata": {},
     "output_type": "execute_result"
    }
   ],
   "source": [
    "dataset.head()"
   ]
  },
  {
   "cell_type": "code",
   "execution_count": 13,
   "metadata": {},
   "outputs": [
    {
     "data": {
      "text/html": [
       "<div>\n",
       "<style scoped>\n",
       "    .dataframe tbody tr th:only-of-type {\n",
       "        vertical-align: middle;\n",
       "    }\n",
       "\n",
       "    .dataframe tbody tr th {\n",
       "        vertical-align: top;\n",
       "    }\n",
       "\n",
       "    .dataframe thead th {\n",
       "        text-align: right;\n",
       "    }\n",
       "</style>\n",
       "<table border=\"1\" class=\"dataframe\">\n",
       "  <thead>\n",
       "    <tr style=\"text-align: right;\">\n",
       "      <th></th>\n",
       "      <th>Feature_1</th>\n",
       "      <th>Feature_2</th>\n",
       "      <th>Feature_3</th>\n",
       "      <th>Feature_4</th>\n",
       "      <th>Feature_5</th>\n",
       "      <th>Feature_6</th>\n",
       "      <th>Activity</th>\n",
       "    </tr>\n",
       "  </thead>\n",
       "  <tbody>\n",
       "    <tr>\n",
       "      <th>1193327</th>\n",
       "      <td>-1.028311</td>\n",
       "      <td>-0.001951</td>\n",
       "      <td>0.000414</td>\n",
       "      <td>-1.004302</td>\n",
       "      <td>0.028621</td>\n",
       "      <td>-0.080702</td>\n",
       "      <td>3.0</td>\n",
       "    </tr>\n",
       "    <tr>\n",
       "      <th>1193328</th>\n",
       "      <td>-1.032170</td>\n",
       "      <td>0.013994</td>\n",
       "      <td>-0.000395</td>\n",
       "      <td>-0.988862</td>\n",
       "      <td>0.018858</td>\n",
       "      <td>-0.079051</td>\n",
       "      <td>3.0</td>\n",
       "    </tr>\n",
       "    <tr>\n",
       "      <th>1193329</th>\n",
       "      <td>-1.030855</td>\n",
       "      <td>0.015393</td>\n",
       "      <td>0.000422</td>\n",
       "      <td>-0.994323</td>\n",
       "      <td>0.024769</td>\n",
       "      <td>-0.080680</td>\n",
       "      <td>3.0</td>\n",
       "    </tr>\n",
       "    <tr>\n",
       "      <th>1193330</th>\n",
       "      <td>-1.031453</td>\n",
       "      <td>0.016756</td>\n",
       "      <td>-0.000518</td>\n",
       "      <td>-0.997044</td>\n",
       "      <td>0.019952</td>\n",
       "      <td>-0.078802</td>\n",
       "      <td>3.0</td>\n",
       "    </tr>\n",
       "    <tr>\n",
       "      <th>1193331</th>\n",
       "      <td>-1.031150</td>\n",
       "      <td>0.003816</td>\n",
       "      <td>0.000757</td>\n",
       "      <td>-1.005943</td>\n",
       "      <td>0.023212</td>\n",
       "      <td>-0.081320</td>\n",
       "      <td>3.0</td>\n",
       "    </tr>\n",
       "  </tbody>\n",
       "</table>\n",
       "</div>"
      ],
      "text/plain": [
       "         Feature_1  Feature_2  Feature_3  Feature_4  Feature_5  Feature_6  \\\n",
       "1193327  -1.028311  -0.001951   0.000414  -1.004302   0.028621  -0.080702   \n",
       "1193328  -1.032170   0.013994  -0.000395  -0.988862   0.018858  -0.079051   \n",
       "1193329  -1.030855   0.015393   0.000422  -0.994323   0.024769  -0.080680   \n",
       "1193330  -1.031453   0.016756  -0.000518  -0.997044   0.019952  -0.078802   \n",
       "1193331  -1.031150   0.003816   0.000757  -1.005943   0.023212  -0.081320   \n",
       "\n",
       "         Activity  \n",
       "1193327       3.0  \n",
       "1193328       3.0  \n",
       "1193329       3.0  \n",
       "1193330       3.0  \n",
       "1193331       3.0  "
      ]
     },
     "execution_count": 13,
     "metadata": {},
     "output_type": "execute_result"
    }
   ],
   "source": [
    "dataset.tail()"
   ]
  },
  {
   "cell_type": "markdown",
   "metadata": {},
   "source": [
    "`unos=positivo y dos=negativo`"
   ]
  },
  {
   "cell_type": "markdown",
   "metadata": {},
   "source": [
    "## Exploración de datos"
   ]
  },
  {
   "cell_type": "markdown",
   "metadata": {},
   "source": [
    "### Tamaño Dataframe"
   ]
  },
  {
   "cell_type": "code",
   "execution_count": 18,
   "metadata": {},
   "outputs": [
    {
     "name": "stdout",
     "output_type": "stream",
     "text": [
      "<class 'pandas.core.frame.DataFrame'>\n",
      "RangeIndex: 1193332 entries, 0 to 1193331\n",
      "Data columns (total 7 columns):\n",
      " #   Column     Non-Null Count    Dtype  \n",
      "---  ------     --------------    -----  \n",
      " 0   Feature_1  1193332 non-null  float64\n",
      " 1   Feature_2  1193332 non-null  float64\n",
      " 2   Feature_3  1193332 non-null  float64\n",
      " 3   Feature_4  1193332 non-null  float64\n",
      " 4   Feature_5  1193332 non-null  float64\n",
      " 5   Feature_6  1193332 non-null  float64\n",
      " 6   Activity   1193332 non-null  float64\n",
      "dtypes: float64(7)\n",
      "memory usage: 63.7 MB\n"
     ]
    }
   ],
   "source": [
    "dataset.info()"
   ]
  },
  {
   "cell_type": "code",
   "execution_count": 20,
   "metadata": {},
   "outputs": [
    {
     "data": {
      "text/plain": [
       "Feature_1    float64\n",
       "Feature_2    float64\n",
       "Feature_3    float64\n",
       "Feature_4    float64\n",
       "Feature_5    float64\n",
       "Feature_6    float64\n",
       "Activity     float64\n",
       "dtype: object"
      ]
     },
     "execution_count": 20,
     "metadata": {},
     "output_type": "execute_result"
    }
   ],
   "source": [
    "dataset.dtypes"
   ]
  },
  {
   "cell_type": "code",
   "execution_count": 22,
   "metadata": {},
   "outputs": [
    {
     "data": {
      "text/plain": [
       "(1193332, 7)"
      ]
     },
     "execution_count": 22,
     "metadata": {},
     "output_type": "execute_result"
    }
   ],
   "source": [
    "dataset.shape"
   ]
  },
  {
   "cell_type": "code",
   "execution_count": 24,
   "metadata": {},
   "outputs": [
    {
     "data": {
      "text/plain": [
       "Feature_1    1193332\n",
       "Feature_2    1193332\n",
       "Feature_3    1193332\n",
       "Feature_4    1193332\n",
       "Feature_5    1193332\n",
       "Feature_6    1193332\n",
       "Activity     1193332\n",
       "dtype: int64"
      ]
     },
     "execution_count": 24,
     "metadata": {},
     "output_type": "execute_result"
    }
   ],
   "source": [
    "dataset.count()"
   ]
  },
  {
   "cell_type": "code",
   "execution_count": 26,
   "metadata": {},
   "outputs": [
    {
     "data": {
      "text/plain": [
       "Feature_1    0\n",
       "Feature_2    0\n",
       "Feature_3    0\n",
       "Feature_4    0\n",
       "Feature_5    0\n",
       "Feature_6    0\n",
       "Activity     0\n",
       "dtype: int64"
      ]
     },
     "execution_count": 26,
     "metadata": {},
     "output_type": "execute_result"
    }
   ],
   "source": [
    "dataset.isnull().sum()"
   ]
  },
  {
   "cell_type": "code",
   "execution_count": 28,
   "metadata": {},
   "outputs": [
    {
     "data": {
      "text/plain": [
       "Index(['Feature_1', 'Feature_2', 'Feature_3', 'Feature_4', 'Feature_5',\n",
       "       'Feature_6', 'Activity'],\n",
       "      dtype='object')"
      ]
     },
     "execution_count": 28,
     "metadata": {},
     "output_type": "execute_result"
    }
   ],
   "source": [
    "dataset.columns"
   ]
  },
  {
   "cell_type": "code",
   "execution_count": 30,
   "metadata": {},
   "outputs": [
    {
     "data": {
      "text/plain": [
       "array([  1.,   2.,   3.,   4.,   5.,   6.,   7.,   8.,  13.,  14., 130.,\n",
       "       140.])"
      ]
     },
     "execution_count": 30,
     "metadata": {},
     "output_type": "execute_result"
    }
   ],
   "source": [
    "dataset['Activity'].unique()"
   ]
  },
  {
   "cell_type": "code",
   "execution_count": 32,
   "metadata": {},
   "outputs": [
    {
     "data": {
      "text/html": [
       "<div>\n",
       "<style scoped>\n",
       "    .dataframe tbody tr th:only-of-type {\n",
       "        vertical-align: middle;\n",
       "    }\n",
       "\n",
       "    .dataframe tbody tr th {\n",
       "        vertical-align: top;\n",
       "    }\n",
       "\n",
       "    .dataframe thead th {\n",
       "        text-align: right;\n",
       "    }\n",
       "</style>\n",
       "<table border=\"1\" class=\"dataframe\">\n",
       "  <thead>\n",
       "    <tr style=\"text-align: right;\">\n",
       "      <th></th>\n",
       "      <th>Feature_1</th>\n",
       "      <th>Feature_2</th>\n",
       "      <th>Feature_3</th>\n",
       "      <th>Feature_4</th>\n",
       "      <th>Feature_5</th>\n",
       "      <th>Feature_6</th>\n",
       "      <th>Activity</th>\n",
       "    </tr>\n",
       "  </thead>\n",
       "  <tbody>\n",
       "    <tr>\n",
       "      <th>count</th>\n",
       "      <td>1.193332e+06</td>\n",
       "      <td>1.193332e+06</td>\n",
       "      <td>1.193332e+06</td>\n",
       "      <td>1.193332e+06</td>\n",
       "      <td>1.193332e+06</td>\n",
       "      <td>1.193332e+06</td>\n",
       "      <td>1.193332e+06</td>\n",
       "    </tr>\n",
       "    <tr>\n",
       "      <th>mean</th>\n",
       "      <td>-8.569865e-01</td>\n",
       "      <td>-1.725394e-02</td>\n",
       "      <td>-1.459950e-01</td>\n",
       "      <td>-6.034325e-01</td>\n",
       "      <td>2.123590e-02</td>\n",
       "      <td>3.234299e-01</td>\n",
       "      <td>7.086062e+00</td>\n",
       "    </tr>\n",
       "    <tr>\n",
       "      <th>std</th>\n",
       "      <td>4.259054e-01</td>\n",
       "      <td>2.475056e-01</td>\n",
       "      <td>3.849583e-01</td>\n",
       "      <td>6.480857e-01</td>\n",
       "      <td>3.964484e-01</td>\n",
       "      <td>7.628647e-01</td>\n",
       "      <td>1.237695e+01</td>\n",
       "    </tr>\n",
       "    <tr>\n",
       "      <th>min</th>\n",
       "      <td>-5.827393e+00</td>\n",
       "      <td>-3.596436e+00</td>\n",
       "      <td>-4.907959e+00</td>\n",
       "      <td>-8.000000e+00</td>\n",
       "      <td>-6.395020e+00</td>\n",
       "      <td>-8.000000e+00</td>\n",
       "      <td>1.000000e+00</td>\n",
       "    </tr>\n",
       "    <tr>\n",
       "      <th>25%</th>\n",
       "      <td>-1.001247e+00</td>\n",
       "      <td>-9.533025e-02</td>\n",
       "      <td>-3.434160e-01</td>\n",
       "      <td>-9.750970e-01</td>\n",
       "      <td>-7.926225e-02</td>\n",
       "      <td>-2.100913e-01</td>\n",
       "      <td>3.000000e+00</td>\n",
       "    </tr>\n",
       "    <tr>\n",
       "      <th>50%</th>\n",
       "      <td>-9.728410e-01</td>\n",
       "      <td>-1.263000e-03</td>\n",
       "      <td>-1.189475e-01</td>\n",
       "      <td>-4.363245e-01</td>\n",
       "      <td>4.267150e-02</td>\n",
       "      <td>4.370120e-01</td>\n",
       "      <td>7.000000e+00</td>\n",
       "    </tr>\n",
       "    <tr>\n",
       "      <th>75%</th>\n",
       "      <td>-7.676950e-01</td>\n",
       "      <td>6.469500e-02</td>\n",
       "      <td>5.957000e-02</td>\n",
       "      <td>-1.372950e-01</td>\n",
       "      <td>1.584820e-01</td>\n",
       "      <td>9.545250e-01</td>\n",
       "      <td>7.000000e+00</td>\n",
       "    </tr>\n",
       "    <tr>\n",
       "      <th>max</th>\n",
       "      <td>1.636198e+00</td>\n",
       "      <td>3.256592e+00</td>\n",
       "      <td>3.306308e+00</td>\n",
       "      <td>5.533936e+00</td>\n",
       "      <td>5.868896e+00</td>\n",
       "      <td>7.999756e+00</td>\n",
       "      <td>1.400000e+02</td>\n",
       "    </tr>\n",
       "  </tbody>\n",
       "</table>\n",
       "</div>"
      ],
      "text/plain": [
       "          Feature_1     Feature_2     Feature_3     Feature_4     Feature_5  \\\n",
       "count  1.193332e+06  1.193332e+06  1.193332e+06  1.193332e+06  1.193332e+06   \n",
       "mean  -8.569865e-01 -1.725394e-02 -1.459950e-01 -6.034325e-01  2.123590e-02   \n",
       "std    4.259054e-01  2.475056e-01  3.849583e-01  6.480857e-01  3.964484e-01   \n",
       "min   -5.827393e+00 -3.596436e+00 -4.907959e+00 -8.000000e+00 -6.395020e+00   \n",
       "25%   -1.001247e+00 -9.533025e-02 -3.434160e-01 -9.750970e-01 -7.926225e-02   \n",
       "50%   -9.728410e-01 -1.263000e-03 -1.189475e-01 -4.363245e-01  4.267150e-02   \n",
       "75%   -7.676950e-01  6.469500e-02  5.957000e-02 -1.372950e-01  1.584820e-01   \n",
       "max    1.636198e+00  3.256592e+00  3.306308e+00  5.533936e+00  5.868896e+00   \n",
       "\n",
       "          Feature_6      Activity  \n",
       "count  1.193332e+06  1.193332e+06  \n",
       "mean   3.234299e-01  7.086062e+00  \n",
       "std    7.628647e-01  1.237695e+01  \n",
       "min   -8.000000e+00  1.000000e+00  \n",
       "25%   -2.100913e-01  3.000000e+00  \n",
       "50%    4.370120e-01  7.000000e+00  \n",
       "75%    9.545250e-01  7.000000e+00  \n",
       "max    7.999756e+00  1.400000e+02  "
      ]
     },
     "execution_count": 32,
     "metadata": {},
     "output_type": "execute_result"
    }
   ],
   "source": [
    "dataset.describe()"
   ]
  },
  {
   "cell_type": "markdown",
   "metadata": {},
   "source": [
    "## Preparación de los datos para Árboles de Decisión Clasificación "
   ]
  },
  {
   "cell_type": "markdown",
   "metadata": {},
   "source": [
    "Para este ejemplo vamos a implementar un clasificador Árboles de Decisión Clasificación, para este algoritmo se requiere todas las variables independientes, para nuestro caso serán las variables **Caracteristica**.\n",
    "\n",
    "Ahora vamos a proceder a definir las variables de “X” y “y” que vamos emplear en nuestro modelo."
   ]
  },
  {
   "cell_type": "markdown",
   "metadata": {},
   "source": [
    "Para “X” vamos a utilizar todas las variables de caracteristicas, por lo que la igualamos a las primeras 4 columnas."
   ]
  },
  {
   "cell_type": "code",
   "execution_count": 37,
   "metadata": {},
   "outputs": [
    {
     "data": {
      "text/html": [
       "<div>\n",
       "<style scoped>\n",
       "    .dataframe tbody tr th:only-of-type {\n",
       "        vertical-align: middle;\n",
       "    }\n",
       "\n",
       "    .dataframe tbody tr th {\n",
       "        vertical-align: top;\n",
       "    }\n",
       "\n",
       "    .dataframe thead th {\n",
       "        text-align: right;\n",
       "    }\n",
       "</style>\n",
       "<table border=\"1\" class=\"dataframe\">\n",
       "  <thead>\n",
       "    <tr style=\"text-align: right;\">\n",
       "      <th></th>\n",
       "      <th>Feature_1</th>\n",
       "      <th>Feature_2</th>\n",
       "      <th>Feature_3</th>\n",
       "      <th>Feature_4</th>\n",
       "      <th>Feature_5</th>\n",
       "      <th>Feature_6</th>\n",
       "      <th>Activity</th>\n",
       "    </tr>\n",
       "  </thead>\n",
       "  <tbody>\n",
       "    <tr>\n",
       "      <th>0</th>\n",
       "      <td>-1.028626</td>\n",
       "      <td>-0.105919</td>\n",
       "      <td>-0.264525</td>\n",
       "      <td>-1.235359</td>\n",
       "      <td>-0.162986</td>\n",
       "      <td>-0.483125</td>\n",
       "      <td>1.0</td>\n",
       "    </tr>\n",
       "    <tr>\n",
       "      <th>1</th>\n",
       "      <td>-1.046406</td>\n",
       "      <td>-0.061666</td>\n",
       "      <td>-0.255959</td>\n",
       "      <td>-1.074173</td>\n",
       "      <td>-0.275747</td>\n",
       "      <td>-0.387487</td>\n",
       "      <td>1.0</td>\n",
       "    </tr>\n",
       "    <tr>\n",
       "      <th>2</th>\n",
       "      <td>-1.009987</td>\n",
       "      <td>-0.054528</td>\n",
       "      <td>-0.205398</td>\n",
       "      <td>-0.803832</td>\n",
       "      <td>-0.282078</td>\n",
       "      <td>-0.316955</td>\n",
       "      <td>1.0</td>\n",
       "    </tr>\n",
       "    <tr>\n",
       "      <th>3</th>\n",
       "      <td>-0.988288</td>\n",
       "      <td>-0.080090</td>\n",
       "      <td>-0.184195</td>\n",
       "      <td>-0.735864</td>\n",
       "      <td>-0.302880</td>\n",
       "      <td>-0.239320</td>\n",
       "      <td>1.0</td>\n",
       "    </tr>\n",
       "    <tr>\n",
       "      <th>4</th>\n",
       "      <td>-0.933698</td>\n",
       "      <td>-0.110635</td>\n",
       "      <td>-0.185413</td>\n",
       "      <td>-0.703047</td>\n",
       "      <td>-0.189211</td>\n",
       "      <td>-0.102410</td>\n",
       "      <td>1.0</td>\n",
       "    </tr>\n",
       "  </tbody>\n",
       "</table>\n",
       "</div>"
      ],
      "text/plain": [
       "   Feature_1  Feature_2  Feature_3  Feature_4  Feature_5  Feature_6  Activity\n",
       "0  -1.028626  -0.105919  -0.264525  -1.235359  -0.162986  -0.483125       1.0\n",
       "1  -1.046406  -0.061666  -0.255959  -1.074173  -0.275747  -0.387487       1.0\n",
       "2  -1.009987  -0.054528  -0.205398  -0.803832  -0.282078  -0.316955       1.0\n",
       "3  -0.988288  -0.080090  -0.184195  -0.735864  -0.302880  -0.239320       1.0\n",
       "4  -0.933698  -0.110635  -0.185413  -0.703047  -0.189211  -0.102410       1.0"
      ]
     },
     "execution_count": 37,
     "metadata": {},
     "output_type": "execute_result"
    }
   ],
   "source": [
    "dataset.head()"
   ]
  },
  {
   "cell_type": "code",
   "execution_count": 39,
   "metadata": {},
   "outputs": [
    {
     "data": {
      "text/html": [
       "<div>\n",
       "<style scoped>\n",
       "    .dataframe tbody tr th:only-of-type {\n",
       "        vertical-align: middle;\n",
       "    }\n",
       "\n",
       "    .dataframe tbody tr th {\n",
       "        vertical-align: top;\n",
       "    }\n",
       "\n",
       "    .dataframe thead th {\n",
       "        text-align: right;\n",
       "    }\n",
       "</style>\n",
       "<table border=\"1\" class=\"dataframe\">\n",
       "  <thead>\n",
       "    <tr style=\"text-align: right;\">\n",
       "      <th></th>\n",
       "      <th>Activity</th>\n",
       "    </tr>\n",
       "  </thead>\n",
       "  <tbody>\n",
       "    <tr>\n",
       "      <th>0</th>\n",
       "      <td>1.0</td>\n",
       "    </tr>\n",
       "    <tr>\n",
       "      <th>1</th>\n",
       "      <td>1.0</td>\n",
       "    </tr>\n",
       "    <tr>\n",
       "      <th>2</th>\n",
       "      <td>1.0</td>\n",
       "    </tr>\n",
       "    <tr>\n",
       "      <th>3</th>\n",
       "      <td>1.0</td>\n",
       "    </tr>\n",
       "    <tr>\n",
       "      <th>4</th>\n",
       "      <td>1.0</td>\n",
       "    </tr>\n",
       "    <tr>\n",
       "      <th>...</th>\n",
       "      <td>...</td>\n",
       "    </tr>\n",
       "    <tr>\n",
       "      <th>1193327</th>\n",
       "      <td>3.0</td>\n",
       "    </tr>\n",
       "    <tr>\n",
       "      <th>1193328</th>\n",
       "      <td>3.0</td>\n",
       "    </tr>\n",
       "    <tr>\n",
       "      <th>1193329</th>\n",
       "      <td>3.0</td>\n",
       "    </tr>\n",
       "    <tr>\n",
       "      <th>1193330</th>\n",
       "      <td>3.0</td>\n",
       "    </tr>\n",
       "    <tr>\n",
       "      <th>1193331</th>\n",
       "      <td>3.0</td>\n",
       "    </tr>\n",
       "  </tbody>\n",
       "</table>\n",
       "<p>1193332 rows × 1 columns</p>\n",
       "</div>"
      ],
      "text/plain": [
       "         Activity\n",
       "0             1.0\n",
       "1             1.0\n",
       "2             1.0\n",
       "3             1.0\n",
       "4             1.0\n",
       "...           ...\n",
       "1193327       3.0\n",
       "1193328       3.0\n",
       "1193329       3.0\n",
       "1193330       3.0\n",
       "1193331       3.0\n",
       "\n",
       "[1193332 rows x 1 columns]"
      ]
     },
     "execution_count": 39,
     "metadata": {},
     "output_type": "execute_result"
    }
   ],
   "source": [
    "caracteristica = dataset[['Activity']]\n",
    "caracteristica"
   ]
  },
  {
   "cell_type": "code",
   "execution_count": 41,
   "metadata": {},
   "outputs": [
    {
     "data": {
      "text/plain": [
       "array([-1.028626, -1.046406, -1.009987, ..., -1.012062, -1.018642,\n",
       "       -1.022132])"
      ]
     },
     "execution_count": 41,
     "metadata": {},
     "output_type": "execute_result"
    }
   ],
   "source": [
    "# verificamos los valores de la columna caracteristica\n",
    "dataset['Feature_1'].unique()"
   ]
  },
  {
   "cell_type": "code",
   "execution_count": 43,
   "metadata": {},
   "outputs": [],
   "source": [
    "#Seleccionamos todas las columnas de carasteristicas\n",
    "X = dataset.iloc[:, 0:6]"
   ]
  },
  {
   "cell_type": "code",
   "execution_count": 45,
   "metadata": {},
   "outputs": [
    {
     "name": "stdout",
     "output_type": "stream",
     "text": [
      "         Feature_1  Feature_2  Feature_3  Feature_4  Feature_5  Feature_6\n",
      "0        -1.028626  -0.105919  -0.264525  -1.235359  -0.162986  -0.483125\n",
      "1        -1.046406  -0.061666  -0.255959  -1.074173  -0.275747  -0.387487\n",
      "2        -1.009987  -0.054528  -0.205398  -0.803832  -0.282078  -0.316955\n",
      "3        -0.988288  -0.080090  -0.184195  -0.735864  -0.302880  -0.239320\n",
      "4        -0.933698  -0.110635  -0.185413  -0.703047  -0.189211  -0.102410\n",
      "...            ...        ...        ...        ...        ...        ...\n",
      "1193327  -1.028311  -0.001951   0.000414  -1.004302   0.028621  -0.080702\n",
      "1193328  -1.032170   0.013994  -0.000395  -0.988862   0.018858  -0.079051\n",
      "1193329  -1.030855   0.015393   0.000422  -0.994323   0.024769  -0.080680\n",
      "1193330  -1.031453   0.016756  -0.000518  -0.997044   0.019952  -0.078802\n",
      "1193331  -1.031150   0.003816   0.000757  -1.005943   0.023212  -0.081320\n",
      "\n",
      "[1193332 rows x 6 columns]\n"
     ]
    }
   ],
   "source": [
    "print(X)"
   ]
  },
  {
   "cell_type": "markdown",
   "metadata": {},
   "source": [
    "Por su parte, “y” será igual a los datos correspondientes a “etiquetas” por lo que igualamos esta variable a la ultima columna."
   ]
  },
  {
   "cell_type": "code",
   "execution_count": 48,
   "metadata": {},
   "outputs": [],
   "source": [
    "#Defino los datos correspondientes a las etiquetas\n",
    "y = dataset['Activity']\n"
   ]
  },
  {
   "cell_type": "code",
   "execution_count": 50,
   "metadata": {},
   "outputs": [
    {
     "name": "stdout",
     "output_type": "stream",
     "text": [
      "0          1.0\n",
      "1          1.0\n",
      "2          1.0\n",
      "3          1.0\n",
      "4          1.0\n",
      "          ... \n",
      "1193327    3.0\n",
      "1193328    3.0\n",
      "1193329    3.0\n",
      "1193330    3.0\n",
      "1193331    3.0\n",
      "Name: Activity, Length: 1193332, dtype: float64\n"
     ]
    }
   ],
   "source": [
    "print(y)"
   ]
  },
  {
   "cell_type": "markdown",
   "metadata": {},
   "source": [
    "Recuerda que “y” cuenta con una sola columna con solamente ceros y unos corresponden a lluvia nublado o sin lluvia nublada respectivamente"
   ]
  },
  {
   "cell_type": "markdown",
   "metadata": {},
   "source": [
    "## Implementación de Árboles de Decisión Clasificación"
   ]
  },
  {
   "cell_type": "markdown",
   "metadata": {},
   "source": [
    "Definido “X” y “y” ya podemos realizar la separación correspondiente a los datos de prueba y entrenamiento para ello importamos la respectiva librería y procedemos a utilizar train_test_split para separar los datos."
   ]
  },
  {
   "cell_type": "code",
   "execution_count": 55,
   "metadata": {},
   "outputs": [],
   "source": [
    "from sklearn.model_selection import train_test_split\n",
    "from sklearn.tree import DecisionTreeClassifier\n",
    "from sklearn.metrics import accuracy_score, classification_report, confusion_matrix\n",
    "from sklearn.linear_model import LinearRegression\n",
    "from sklearn.datasets import make_regression\n",
    "import matplotlib.pyplot as plt\n",
    "from sklearn.tree import DecisionTreeRegressor, plot_tree"
   ]
  },
  {
   "cell_type": "markdown",
   "metadata": {},
   "source": [
    "Para la separación de los datos, vamos a tomar un 20% de los mismos para utilizarlos como prueba una vez que hayamos obtenido el modelo."
   ]
  },
  {
   "cell_type": "code",
   "execution_count": 58,
   "metadata": {},
   "outputs": [],
   "source": [
    "#Separo los datos de \"train\" en entrenamiento y prueba para probar los algoritmos\n",
    "X_train, X_test, y_train, y_test = train_test_split(X, y, test_size=0.2)"
   ]
  },
  {
   "cell_type": "markdown",
   "metadata": {},
   "source": [
    "Seguidamente definimos el algoritmo, entonces decimos desde skelarn.tree importamos DecisionTreeClasiffier. Acá lo que indicamos es que desde el modulo de árboles de skelearn, vamos a importar el algoritmo de árboles de decisión clasificación, recuerda que ese algoritmo también funciona para problemas de regresión."
   ]
  },
  {
   "cell_type": "code",
   "execution_count": 61,
   "metadata": {},
   "outputs": [],
   "source": [
    "#Arboles de decisión\n",
    "algoritmo_w = DecisionTreeClassifier(criterion='entropy')"
   ]
  },
  {
   "cell_type": "markdown",
   "metadata": {},
   "source": [
    "Ahora definimos el algoritmo y lo configuramos para crear el modelo y entrenarlo. En este caso el único parámetro que vamos a configurar es el referente a “criterion” que se refiere a la medida de selección. Por defecto este parámetro viene configurado con el índice Gini pero para nuestro ejercicio lo voy a cambiar por “entropy” o entropía en español. Para entender mejor esto te recomiendo que buques la información publicada sobre la librería scikit learn para este algoritmo.\n",
    "\n",
    "Definido esto ahora entrenamos el algoritmo, utilizando la instrucción fit() junto con los datos de entrenamiento separados previamente."
   ]
  },
  {
   "cell_type": "code",
   "execution_count": 64,
   "metadata": {},
   "outputs": [
    {
     "name": "stdout",
     "output_type": "stream",
     "text": [
      "DecisionTreeClassifier(criterion='entropy')\n"
     ]
    }
   ],
   "source": [
    "#Entreno el modelo\n",
    "algoritmo_w.fit(X_train, y_train)\n",
    "print(algoritmo_w)"
   ]
  },
  {
   "cell_type": "markdown",
   "metadata": {},
   "source": [
    "## Verificación del modelo desarrollado"
   ]
  },
  {
   "cell_type": "markdown",
   "metadata": {},
   "source": [
    "A llegado el momento de verificar que tan preciso es el modelo desarrollado para ello utilizamos modulo `score` de los Datos de Prueba."
   ]
  },
  {
   "cell_type": "code",
   "execution_count": 67,
   "metadata": {},
   "outputs": [
    {
     "name": "stdout",
     "output_type": "stream",
     "text": [
      "Precisión del modelo Datos Prueba: \n",
      "0.8621594103918849\n"
     ]
    }
   ],
   "source": [
    "precision = algoritmo_w.score(X_test, y_test)\n",
    "print('Precisión del modelo Datos Prueba: ')\n",
    "print(precision)"
   ]
  },
  {
   "cell_type": "markdown",
   "metadata": {},
   "source": [
    "El resultado de este calculo es de 0,966 un valor bastante aceptable.\n",
    "\n",
    "Con esto podemos concluir que con este algoritmo también podemos obtener muy buenos resultados con este conjunto de datos. Ya queda de tu parte si deseas mejorarlo y ver si es posible obtener algo más preciso, para ello puedes modificar los datos de la configuración del algoritmo, por ejemplo cambiando la medida de selección."
   ]
  },
  {
   "cell_type": "code",
   "execution_count": 69,
   "metadata": {},
   "outputs": [
    {
     "name": "stdout",
     "output_type": "stream",
     "text": [
      "Precisión del modelo Datos Entrenamiento: \n",
      "1.0\n"
     ]
    }
   ],
   "source": [
    "precision2=algoritmo_w.score(X_train, y_train)\n",
    "print('Precisión del modelo Datos Entrenamiento: ')\n",
    "print (precision2)"
   ]
  },
  {
   "cell_type": "markdown",
   "metadata": {},
   "source": [
    "**eso se llama SOBREAJUSTE**"
   ]
  },
  {
   "cell_type": "markdown",
   "metadata": {},
   "source": [
    "## Gráficamos nuestro Árbol"
   ]
  },
  {
   "cell_type": "markdown",
   "metadata": {},
   "source": [
    "Importamos Librerias para graficar"
   ]
  },
  {
   "cell_type": "markdown",
   "metadata": {},
   "source": [
    "instalar `conda install -c anaconda graphviz`\n",
    "\n",
    "instalar `conda install -c conda-forge python-graphviz`"
   ]
  },
  {
   "cell_type": "code",
   "execution_count": 74,
   "metadata": {},
   "outputs": [
    {
     "name": "stdout",
     "output_type": "stream",
     "text": [
      "Requirement already satisfied: graphviz in c:\\users\\usuario\\anaconda3\\lib\\site-packages (0.20.3)\n"
     ]
    }
   ],
   "source": [
    "!pip install graphviz\n",
    "from sklearn.tree import DecisionTreeClassifier, export_graphviz\n",
    "import graphviz\n",
    "import matplotlib.pyplot as plt"
   ]
  },
  {
   "cell_type": "markdown",
   "metadata": {},
   "source": [
    "Generamos archivo `.dot` que contiene la grafica "
   ]
  },
  {
   "cell_type": "code",
   "execution_count": null,
   "metadata": {},
   "outputs": [],
   "source": [
    "plt.figure(figsize=(5, 10))\n",
    "plot_tree(algoritmo_w, filled=True, feature_names=X.columns, rounded=True)\n",
    "plt.show()"
   ]
  },
  {
   "cell_type": "markdown",
   "metadata": {},
   "source": [
    "Creamos la gráfica"
   ]
  },
  {
   "cell_type": "code",
   "execution_count": null,
   "metadata": {},
   "outputs": [],
   "source": [
    "caract = X.shape[1]\n",
    "plt.barh(range(caract), algoritmo_w.feature_importances_)\n",
    "plt.yticks(np.arange(caract),('Feature_1','Feature_1','Feature_3', 'Feature_4',\n",
    "                               'Feature_5','Feature_6')\n",
    "plt.xlabel(\"Importancia de las características\")\n",
    "plt.ylabel(\"Características\")\n",
    "plt.show()\n"
   ]
  },
  {
   "cell_type": "markdown",
   "metadata": {},
   "source": [
    "## Volvemos a entrenar el modelo con 3 niveles evitando sobreajuste"
   ]
  },
  {
   "cell_type": "code",
   "execution_count": null,
   "metadata": {},
   "outputs": [],
   "source": [
    "#Arboles de decisión\n",
    "algoritmo_w = DecisionTreeClassifier(max_depth=3)"
   ]
  },
  {
   "cell_type": "code",
   "execution_count": null,
   "metadata": {},
   "outputs": [],
   "source": [
    "#Entreno el modelo\n",
    "algoritmo_w.fit(X_train, y_train)"
   ]
  },
  {
   "cell_type": "code",
   "execution_count": null,
   "metadata": {},
   "outputs": [],
   "source": [
    "precision = algoritmo_w.score(X_test, y_test)\n",
    "print(\"Precisión del modelo Datos Prueba:\")\n",
    "print(precision)\n"
   ]
  },
  {
   "cell_type": "code",
   "execution_count": null,
   "metadata": {},
   "outputs": [],
   "source": [
    "precision2 = algoritmo_w.score(X_train, y_train)\n",
    "print(\"Precisión del modelo Datos Entrenamiento:\")\n",
    "print(precision2)"
   ]
  },
  {
   "cell_type": "code",
   "execution_count": null,
   "metadata": {},
   "outputs": [],
   "source": [
    "plt.figure(figsize=(5, 10))\n",
    "plot_tree(algoritmo_w, filled=True, feature_names=X.columns, rounded=True)\n",
    "plt.show()"
   ]
  },
  {
   "cell_type": "code",
   "execution_count": null,
   "metadata": {},
   "outputs": [],
   "source": []
  }
 ],
 "metadata": {
  "kernelspec": {
   "display_name": "Python 3 (ipykernel)",
   "language": "python",
   "name": "python3"
  },
  "language_info": {
   "codemirror_mode": {
    "name": "ipython",
    "version": 3
   },
   "file_extension": ".py",
   "mimetype": "text/x-python",
   "name": "python",
   "nbconvert_exporter": "python",
   "pygments_lexer": "ipython3",
   "version": "3.12.3"
  }
 },
 "nbformat": 4,
 "nbformat_minor": 4
}
