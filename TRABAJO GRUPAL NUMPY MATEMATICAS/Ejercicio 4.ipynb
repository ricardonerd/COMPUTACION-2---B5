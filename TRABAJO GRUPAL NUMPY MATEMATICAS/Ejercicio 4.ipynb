{
 "cells": [
  {
   "cell_type": "markdown",
   "metadata": {},
   "source": [
    "### Ejercicio 4 - Investigar Como?"
   ]
  },
  {
   "cell_type": "markdown",
   "metadata": {},
   "source": [
    "<div class=\"well\">Crear un programa que permita hacer operaciones con matrices en <strong>Python</strong> utilizando los módulos <strong>NumPy</strong> y <strong>SciPy</strong> para resolver la inversa, la multiplicación y la solución de un sistema de ecuaciones lineales.\n",
    "\n",
    "\n",
    "</div>\n"
   ]
  },
  {
   "cell_type": "code",
   "execution_count": 1,
   "metadata": {},
   "outputs": [
    {
     "name": "stdout",
     "output_type": "stream",
     "text": [
      "Requirement already satisfied: numpy in d:\\anaconda\\lib\\site-packages (1.26.4)\n",
      "Requirement already satisfied: scipy in d:\\anaconda\\lib\\site-packages (1.11.4)\n",
      "Requirement already satisfied: imageio in d:\\anaconda\\lib\\site-packages (2.33.1)\n",
      "Requirement already satisfied: pillow>=8.3.2 in d:\\anaconda\\lib\\site-packages (from imageio) (10.2.0)\n",
      "Note: you may need to restart the kernel to use updated packages.\n"
     ]
    }
   ],
   "source": [
    "pip install numpy scipy imageio"
   ]
  },
  {
   "cell_type": "code",
   "execution_count": 2,
   "metadata": {},
   "outputs": [],
   "source": [
    "import numpy as np\n",
    "from scipy.linalg import inv, solve"
   ]
  },
  {
   "cell_type": "code",
   "execution_count": 9,
   "metadata": {},
   "outputs": [
    {
     "name": "stdout",
     "output_type": "stream",
     "text": [
      "Matriz A: [[10 -1  2  0]\n",
      " [-1 11 -1  3]\n",
      " [ 2 -1 10 -1]\n",
      " [ 0  3 -1  8]]\n"
     ]
    }
   ],
   "source": [
    "A = np.array([\n",
    "    [10, -1, 2, 0],\n",
    "    [-1, 11, -1, 3],\n",
    "    [2, -1, 10, -1],\n",
    "    [0, 3, -1, 8]\n",
    "])\n",
    "\n",
    "print(\"Matriz A:\", A)"
   ]
  },
  {
   "cell_type": "code",
   "execution_count": 10,
   "metadata": {},
   "outputs": [
    {
     "name": "stdout",
     "output_type": "stream",
     "text": [
      "Matriz B: [[ 6  5  4  2]\n",
      " [25 10  1 20]\n",
      " [ 7  9  8  2]\n",
      " [ 5  1 14  2]]\n"
     ]
    }
   ],
   "source": [
    "B = np.array([\n",
    "    [6, 5, 4, 2],\n",
    "    [25, 10, 1, 20],\n",
    "    [7, 9, 8, 2],\n",
    "    [5, 1, 14, 2]\n",
    "])\n",
    "\n",
    "print(\"Matriz B:\", B)"
   ]
  },
  {
   "cell_type": "code",
   "execution_count": 11,
   "metadata": {},
   "outputs": [
    {
     "name": "stdout",
     "output_type": "stream",
     "text": [
      "Inversa de A: [[ 0.10507099  0.00933063 -0.02068966 -0.00608519]\n",
      " [ 0.00933063  0.10250169  0.0045977  -0.03786342]\n",
      " [-0.02068966  0.0045977   0.10574713  0.01149425]\n",
      " [-0.00608519 -0.03786342  0.01149425  0.14063556]]\n"
     ]
    }
   ],
   "source": [
    "A_inv = inv(A)\n",
    "\n",
    "print(\"Inversa de A:\", A_inv)"
   ]
  },
  {
   "cell_type": "code",
   "execution_count": 12,
   "metadata": {},
   "outputs": [
    {
     "name": "stdout",
     "output_type": "stream",
     "text": [
      "Inversa de B: [[ 7.94285714e-01 -4.00000000e-02 -3.97142857e-01  2.85714286e-03]\n",
      " [-3.05714286e-01  1.00000000e-02  2.77857143e-01 -7.21428571e-02]\n",
      " [-1.42857143e-01  6.93889390e-18  7.14285714e-02  7.14285714e-02]\n",
      " [-8.32857143e-01  9.50000000e-02  3.53928571e-01  2.89285714e-02]]\n"
     ]
    }
   ],
   "source": [
    "B_inv = inv(B)\n",
    "\n",
    "print(\"Inversa de B:\", B_inv)"
   ]
  },
  {
   "cell_type": "code",
   "execution_count": 13,
   "metadata": {},
   "outputs": [
    {
     "name": "stdout",
     "output_type": "stream",
     "text": [
      "Multiplicación de A y B:\n",
      "[[ 49  58  55   4]\n",
      " [277  99  41 222]\n",
      " [ 52  89  73   2]\n",
      " [108  29 107  74]]\n"
     ]
    }
   ],
   "source": [
    "AB = np.dot(A, B)\n",
    "print(\"Multiplicación de A y B:\")\n",
    "print(AB)"
   ]
  },
  {
   "cell_type": "code",
   "execution_count": 14,
   "metadata": {},
   "outputs": [
    {
     "name": "stdout",
     "output_type": "stream",
     "text": [
      "Solución del sistema A * X = B: [[ 0.68843813  0.42636917  0.17890467  0.34320487]\n",
      " [ 2.46139283  1.07518594 -0.35348208  2.00216362]\n",
      " [ 0.78850575  0.90574713  0.92873563  0.28505747]\n",
      " [-0.19945909 -0.16497634  1.99864773 -0.46517918]]\n"
     ]
    }
   ],
   "source": [
    "X = solve(A, B)\n",
    "    \n",
    "print(\"Solución del sistema A * X = B:\", X)"
   ]
  },
  {
   "cell_type": "code",
   "execution_count": null,
   "metadata": {},
   "outputs": [],
   "source": []
  }
 ],
 "metadata": {
  "kernelspec": {
   "display_name": "Python 3 (ipykernel)",
   "language": "python",
   "name": "python3"
  },
  "language_info": {
   "codemirror_mode": {
    "name": "ipython",
    "version": 3
   },
   "file_extension": ".py",
   "mimetype": "text/x-python",
   "name": "python",
   "nbconvert_exporter": "python",
   "pygments_lexer": "ipython3",
   "version": "3.11.7"
  }
 },
 "nbformat": 4,
 "nbformat_minor": 4
}
