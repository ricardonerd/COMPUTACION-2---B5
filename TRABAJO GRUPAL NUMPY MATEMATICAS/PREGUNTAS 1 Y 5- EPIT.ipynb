{
 "cells": [
  {
   "cell_type": "markdown",
   "metadata": {},
   "source": [
    "<center> <h1>Universidad Nacional de San Agustín de Arequipa</h1> </center> \n",
    "<center> <h1>Escuela Profesional de Ingeniería de Telecomunicaciones</h1> </center> \n",
    "\n",
    "<center> <h1> </h1> </center> \n",
    "\n",
    "<center><img src=\"https://user-images.githubusercontent.com/19308295/115939517-f1c6fe80-a463-11eb-989c-812ab4942586.png\" width=\"380\" height=\"4200\"></center>"
   ]
  },
  {
   "cell_type": "markdown",
   "metadata": {},
   "source": [
    "<center> <h2>Ingeniero Renzo Bolivar - Docente DAIE</h2> </center> "
   ]
  },
  {
   "cell_type": "markdown",
   "metadata": {},
   "source": [
    "<center> <h1>Curso : Computación 2</h1> </center> "
   ]
  },
  {
   "cell_type": "markdown",
   "metadata": {},
   "source": [
    "![linea 1](https://user-images.githubusercontent.com/19308295/115926252-2b8a0c00-a448-11eb-9d9c-b43beaf0ff68.png)"
   ]
  },
  {
   "cell_type": "markdown",
   "metadata": {},
   "source": [
    "<center> <h1>Numpy Matemático</h1> </center> "
   ]
  },
  {
   "cell_type": "markdown",
   "metadata": {},
   "source": [
    "![linea 1](https://user-images.githubusercontent.com/19308295/115926252-2b8a0c00-a448-11eb-9d9c-b43beaf0ff68.png)"
   ]
  },
  {
   "cell_type": "markdown",
   "metadata": {},
   "source": [
    "# Descripción:"
   ]
  },
  {
   "cell_type": "markdown",
   "metadata": {},
   "source": [
    "En este notebook se explicarán los"
   ]
  },
  {
   "cell_type": "markdown",
   "metadata": {},
   "source": [
    "# Objetivos:"
   ]
  },
  {
   "cell_type": "markdown",
   "metadata": {},
   "source": [
    "algunas funciones importantes de pandas.\n",
    "\n",
    "[1. Matemática Básica](#1.-Matemática-Básica)<br>\n",
    "[2. Matemática Estadística](#2.-Matemática-Estadística)<br>\n",
    "[3. Procesamiento de señal (scipy.signal)](#3.-Procesamiento-de-señal-(scipy.signal))<br>\n",
    "\n",
    "\n",
    "[EJEMPLOS](#EJEMPLOS)<br>\n",
    "[EJERCICIOS](#EJERCICIOS)<br>\n",
    "[BIBLIOGRAFÍA](#BIBLIOGRAFÍA)<br>"
   ]
  },
  {
   "cell_type": "markdown",
   "metadata": {},
   "source": [
    "![linea 1](https://user-images.githubusercontent.com/19308295/115926252-2b8a0c00-a448-11eb-9d9c-b43beaf0ff68.png)"
   ]
  },
  {
   "cell_type": "markdown",
   "metadata": {},
   "source": [
    "La caja de herramientas de procesamiento de señales actualmente contiene algunas funciones de filtrado, un conjunto limitado de herramientas de diseño de filtros y algunos algoritmos de interpolación `B-spline` para datos 1 y 2-D. \n",
    "\n",
    "Si bien los algoritmos `B-spline` podrían ubicarse técnicamente en la categoría de interpolación, se incluyen aquí porque solo funcionan con datos igualmente espaciados y hacen un uso intensivo de la teoría de filtros y el formalismo de la función de transferencia para proporcionar una transformación `B-spline` rápida. Para comprender esta sección, deberá comprender que una señal en SciPy es una matriz de números reales o complejos."
   ]
  },
  {
   "cell_type": "markdown",
   "metadata": {},
   "source": [
    "<div class=\"alert alert-info\">Una función ideal para reconstruir muestras a partir de coeficientes de spline y es más rápida que convolve2d, lo que implica filtros arbitrarios en 2-D y permite elegir condiciones límite simétricas especulares.</div>"
   ]
  },
  {
   "cell_type": "markdown",
   "metadata": {},
   "source": [
    "<div class=\"alert alert-info\">Alternativamente, podríamos haber hecho:</div>"
   ]
  },
  {
   "cell_type": "markdown",
   "metadata": {},
   "source": [
    "![linea 2](https://user-images.githubusercontent.com/19308295/115926262-2fb62980-a448-11eb-8189-c2f10e499944.png)"
   ]
  },
  {
   "cell_type": "markdown",
   "metadata": {},
   "source": [
    "<div class=\"alert alert-info\"> El <strong>filtrado</strong> es un nombre genérico para cualquier sistema que modifique una señal de entrada de alguna manera. En <strong>SciPy</strong>, una señal puede considerarse como una matriz <strong>NumPy</strong>. Existen diferentes tipos de filtros para diferentes tipos de operaciones.</div>"
   ]
  },
  {
   "cell_type": "markdown",
   "metadata": {},
   "source": [
    "En ***Scipy*** `correlate` y/o `convolve` puede usarse para construir filtros de imagen arbitrarios para realizar acciones tales como desenfoque, mejora y detección de bordes para una imagen."
   ]
  },
  {
   "cell_type": "markdown",
   "metadata": {},
   "source": [
    "## <font color=#33A5FF>****EJERCICIOS****<tfont>"
   ]
  },
  {
   "cell_type": "markdown",
   "metadata": {},
   "source": [
    "### Ejercicio 1 - Investigar Como?"
   ]
  },
  {
   "cell_type": "markdown",
   "metadata": {},
   "source": [
    "#### Resolver las siguientes ecuaciones:\n",
    "\n",
    "\n",
    "$$12x + 5y + z= 6$$\n",
    "$$6x + 10y + z = 8$$\n",
    "$$3x + 15y + z = 4$$\n",
    "\n",
    "\n",
    "\n",
    "#### Utilizando un método diferente al enseñado  $A*x =B$"
   ]
  },
  {
   "cell_type": "code",
   "execution_count": 6,
   "metadata": {},
   "outputs": [
    {
     "name": "stdout",
     "output_type": "stream",
     "text": [
      "La matriz A es: \n",
      "[[15  5  1]\n",
      " [ 6 10  1]\n",
      " [ 3 15  1]]\n",
      "\n",
      "La matriz B: \n",
      "[[6]\n",
      " [8]\n",
      " [4]]\n",
      "\n",
      "La matriz x , que sale al dividir la matriz B entre A, es: \n"
     ]
    }
   ],
   "source": [
    "import numpy as np\n",
    "import numpy.linalg as lin\n",
    "A = np.array([\n",
    "    [15,5,1],\n",
    "    [6,10,1],\n",
    "    [3,15,1]\n",
    "])\n",
    "B = np.array([\n",
    "    [6],\n",
    "    [8],\n",
    "    [4]\n",
    "])\n",
    "\n",
    "print('La matriz A es: ')\n",
    "print(A)\n",
    "print('\\nLa matriz B: ')\n",
    "print(B)\n",
    "print('\\nLa matriz x , que sale al dividir la matriz B entre A, es: ')\n"
   ]
  },
  {
   "cell_type": "markdown",
   "metadata": {},
   "source": [
    "<div class=\"well\">Crear un programa que permita hacer operaciones con matrices en <strong>Python</strong> utilizando los módulos <strong>NumPy</strong> y <strong>SciPy</strong> para resolver la inversa, la multiplicación y la solución de un sistema de ecuaciones lineales.\n",
    "\n",
    "\n",
    "</div>\n"
   ]
  },
  {
   "cell_type": "markdown",
   "metadata": {},
   "source": [
    "### Ejercicio 5 - Investigar Como?"
   ]
  },
  {
   "cell_type": "markdown",
   "metadata": {},
   "source": [
    "<div class=\"well\">Crear un programa que permita resolver una <strong>interpolación utilizando polinomios de Lagrange</strong> en Python <strong> SciPy </strong> .\n",
    "\n",
    "\n",
    "</div>"
   ]
  },
  {
   "cell_type": "code",
   "execution_count": 7,
   "metadata": {},
   "outputs": [
    {
     "name": "stdout",
     "output_type": "stream",
     "text": [
      "El valor interpolado en x = 2.5 es y = 3.4609375\n"
     ]
    }
   ],
   "source": [
    "from scipy.interpolate import lagrange \n",
    "def interpolacion_lagrange(x, y, x_eval):\n",
    "    \"\"\"\n",
    "    Realizamos una interpolacion utilizando polinomios de Lagrange.\n",
    "\n",
    "    Args:\n",
    "        x(list): Lista de puntos x conocidos.\n",
    "        y(list): Lista de puntos y conocidos.\n",
    "        x_eval (float): Valor x en el que se desea evaluar el polinomio interpolante.\n",
    "    Returns:\n",
    "        float: Valor y obtenido mediante interpolacion en x_eval.\n",
    "    \"\"\"\n",
    "    polinomio = lagrange(x, y)\n",
    "    y_eval = polinomio(x_eval)\n",
    "    return y_eval\n",
    "\n",
    "# Ejemplo\n",
    "x = [1,2,3,4,5]\n",
    "y = [6,4,3,2,1]\n",
    "x_eval = 2.5\n",
    "\n",
    "resultado = interpolacion_lagrange(x, y, x_eval)\n",
    "print(\"El valor interpolado en x =\", x_eval, \"es y =\", resultado)"
   ]
  },
  {
   "cell_type": "markdown",
   "metadata": {},
   "source": [
    "![linea 2](https://user-images.githubusercontent.com/19308295/115926262-2fb62980-a448-11eb-8189-c2f10e499944.png)"
   ]
  },
  {
   "cell_type": "markdown",
   "metadata": {},
   "source": [
    "## <font color=#33A5FF>****BIBLIOGRAFÍA****<tfont>"
   ]
  },
  {
   "cell_type": "markdown",
   "metadata": {},
   "source": [
    "[1] Documentación de NumPy: https://numpy.org/doc/stable/\n",
    "\n",
    "[2] Algebra líneal con NumPy web Pybonacci: https://pybonacci.org/2012/06/07/algebra-lineal-en-python-con-numpy-i-operaciones-basicas/\n",
    "\n",
    "[3] Funciones de distribución de probabilidad en NumPy: https://docs.scipy.org/doc/numpy-1.15.0/reference/routines.random.html\n",
    "\n",
    "[4] Algebra líneal en NumPy:https://numpy.org/doc/stable/reference/routines.linalg.html\n",
    "\n",
    "[5] SymPy:https://www.sympy.org/en/index.html\n",
    "\n",
    "[6] SciPy:https://www.scipy.org/"
   ]
  },
  {
   "cell_type": "markdown",
   "metadata": {},
   "source": [
    "![linea 1](https://user-images.githubusercontent.com/19308295/115926252-2b8a0c00-a448-11eb-9d9c-b43beaf0ff68.png)"
   ]
  }
 ],
 "metadata": {
  "kernelspec": {
   "display_name": "Python 3 (ipykernel)",
   "language": "python",
   "name": "python3"
  },
  "language_info": {
   "codemirror_mode": {
    "name": "ipython",
    "version": 3
   },
   "file_extension": ".py",
   "mimetype": "text/x-python",
   "name": "python",
   "nbconvert_exporter": "python",
   "pygments_lexer": "ipython3",
   "version": "3.11.7"
  }
 },
 "nbformat": 4,
 "nbformat_minor": 4
}
