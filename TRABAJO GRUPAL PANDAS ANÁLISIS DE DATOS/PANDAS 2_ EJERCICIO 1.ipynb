{
 "cells": [
  {
   "cell_type": "markdown",
   "metadata": {},
   "source": [
    "<center> <h1>Universidad Nacional de San Agustín de Arequipa</h1> </center> \n",
    "<center> <h1>Escuela Profesional de Ingeniería de Telecomunicaciones</h1> </center> \n",
    "\n",
    "<center> <h1> </h1> </center> \n",
    "\n",
    "<center><img src=\"https://user-images.githubusercontent.com/19308295/115939517-f1c6fe80-a463-11eb-989c-812ab4942586.png\" width=\"380\" height=\"4200\"></center>"
   ]
  },
  {
   "cell_type": "markdown",
   "metadata": {},
   "source": [
    "<center> <h2>Ingeniero Renzo Bolivar - Docente DAIE</h2> </center> "
   ]
  },
  {
   "cell_type": "markdown",
   "metadata": {},
   "source": [
    "<center> <h1>Curso : Computación 2</h1> </center> "
   ]
  },
  {
   "cell_type": "markdown",
   "metadata": {},
   "source": [
    "![linea 1](https://user-images.githubusercontent.com/19308295/115926252-2b8a0c00-a448-11eb-9d9c-b43beaf0ff68.png)"
   ]
  },
  {
   "cell_type": "markdown",
   "metadata": {},
   "source": [
    "<center> <h1>PANDAS</h1> </center> "
   ]
  },
  {
   "cell_type": "markdown",
   "metadata": {},
   "source": [
    "![linea 1](https://user-images.githubusercontent.com/19308295/115926252-2b8a0c00-a448-11eb-9d9c-b43beaf0ff68.png)"
   ]
  },
  {
   "cell_type": "markdown",
   "metadata": {},
   "source": [
    "### Ejercicio 1 "
   ]
  },
  {
   "cell_type": "markdown",
   "metadata": {},
   "source": [
    "<div class=\"alert alert-info\">\n",
    "Crear un <strong>DataFrame</strong> desde la URL : \n",
    "    \n",
    "    \n",
    "    https://github.com/owid/covid-19-data/blob/master/public/data/owid-covid-data.csv?raw=true   \n",
    "    \n",
    "Responder las siguientes preguntas :\n",
    "</div>"
   ]
  },
  {
   "cell_type": "code",
   "execution_count": 2,
   "metadata": {},
   "outputs": [],
   "source": [
    "import pandas as pd\n",
    "\n",
    "# URL del archivo CSV\n",
    "url = \"https://github.com/owid/covid-19-data/blob/master/public/data/owid-covid-data.csv?raw=true\"\n",
    "\n",
    "# Cargar el archivo CSV en un DataFrame\n",
    "data = pd.read_csv(url)"
   ]
  },
  {
   "cell_type": "markdown",
   "metadata": {},
   "source": [
    "<div class=\"well\">\n",
    "   \n",
    "   1.-Que <strong>paises</strong> se encuentran en el DataFrame.\n",
    "   \n",
    "   2.-Cuantos registros hay por <strong>continente</strong>\n",
    "    \n",
    "   3.-Cuantos <strong>nuevos casos</strong> hubo como máximo en una fecha reportada por cada país?\n",
    "    \n",
    "   4.-Cuál es el país con el mayor <strong>GDP per cápita (PBI)</strong>?\n",
    "   \n",
    "   5.-Qué país tiene la mayor cantidad de <strong>fumadoras femeninas</strong>? \n",
    "    \n",
    "   6.-Qué país tiene la mayor cantidad de <strong>muertes por millón</strong>? \n",
    "    \n",
    "   7.-Qué país ha tomado las medidas <strong>más estrictas hasta ahora</strong>? \n",
    "    \n",
    "   8.-Cual fue el país en alcanzar los 10.000 <strong>casos activos por primera vez</strong>?\n",
    "    \n",
    "   \n",
    "</div>"
   ]
  },
  {
   "cell_type": "code",
   "execution_count": 4,
   "metadata": {},
   "outputs": [
    {
     "name": "stdout",
     "output_type": "stream",
     "text": [
      "Países en el DataFrame: ['Afghanistan' 'Africa' 'Albania' 'Algeria' 'American Samoa' 'Andorra'\n",
      " 'Angola' 'Anguilla' 'Antigua and Barbuda' 'Argentina' 'Armenia' 'Aruba'\n",
      " 'Asia' 'Australia' 'Austria' 'Azerbaijan' 'Bahamas' 'Bahrain'\n",
      " 'Bangladesh' 'Barbados' 'Belarus' 'Belgium' 'Belize' 'Benin' 'Bermuda'\n",
      " 'Bhutan' 'Bolivia' 'Bonaire Sint Eustatius and Saba'\n",
      " 'Bosnia and Herzegovina' 'Botswana' 'Brazil' 'British Virgin Islands'\n",
      " 'Brunei' 'Bulgaria' 'Burkina Faso' 'Burundi' 'Cambodia' 'Cameroon'\n",
      " 'Canada' 'Cape Verde' 'Cayman Islands' 'Central African Republic' 'Chad'\n",
      " 'Chile' 'China' 'Colombia' 'Comoros' 'Congo' 'Cook Islands' 'Costa Rica'\n",
      " \"Cote d'Ivoire\" 'Croatia' 'Cuba' 'Curacao' 'Cyprus' 'Czechia'\n",
      " 'Democratic Republic of Congo' 'Denmark' 'Djibouti' 'Dominica'\n",
      " 'Dominican Republic' 'Ecuador' 'Egypt' 'El Salvador' 'England'\n",
      " 'Equatorial Guinea' 'Eritrea' 'Estonia' 'Eswatini' 'Ethiopia' 'Europe'\n",
      " 'European Union' 'Faeroe Islands' 'Falkland Islands' 'Fiji' 'Finland'\n",
      " 'France' 'French Guiana' 'French Polynesia' 'Gabon' 'Gambia' 'Georgia'\n",
      " 'Germany' 'Ghana' 'Gibraltar' 'Greece' 'Greenland' 'Grenada' 'Guadeloupe'\n",
      " 'Guam' 'Guatemala' 'Guernsey' 'Guinea' 'Guinea-Bissau' 'Guyana' 'Haiti'\n",
      " 'High income' 'Honduras' 'Hong Kong' 'Hungary' 'Iceland' 'India'\n",
      " 'Indonesia' 'Iran' 'Iraq' 'Ireland' 'Isle of Man' 'Israel' 'Italy'\n",
      " 'Jamaica' 'Japan' 'Jersey' 'Jordan' 'Kazakhstan' 'Kenya' 'Kiribati'\n",
      " 'Kosovo' 'Kuwait' 'Kyrgyzstan' 'Laos' 'Latvia' 'Lebanon' 'Lesotho'\n",
      " 'Liberia' 'Libya' 'Liechtenstein' 'Lithuania' 'Low income'\n",
      " 'Lower middle income' 'Luxembourg' 'Macao' 'Madagascar' 'Malawi'\n",
      " 'Malaysia' 'Maldives' 'Mali' 'Malta' 'Marshall Islands' 'Martinique'\n",
      " 'Mauritania' 'Mauritius' 'Mayotte' 'Mexico' 'Micronesia (country)'\n",
      " 'Moldova' 'Monaco' 'Mongolia' 'Montenegro' 'Montserrat' 'Morocco'\n",
      " 'Mozambique' 'Myanmar' 'Namibia' 'Nauru' 'Nepal' 'Netherlands'\n",
      " 'New Caledonia' 'New Zealand' 'Nicaragua' 'Niger' 'Nigeria' 'Niue'\n",
      " 'North America' 'North Korea' 'North Macedonia' 'Northern Cyprus'\n",
      " 'Northern Ireland' 'Northern Mariana Islands' 'Norway' 'Oceania' 'Oman'\n",
      " 'Pakistan' 'Palau' 'Palestine' 'Panama' 'Papua New Guinea' 'Paraguay'\n",
      " 'Peru' 'Philippines' 'Pitcairn' 'Poland' 'Portugal' 'Puerto Rico' 'Qatar'\n",
      " 'Reunion' 'Romania' 'Russia' 'Rwanda' 'Saint Barthelemy' 'Saint Helena'\n",
      " 'Saint Kitts and Nevis' 'Saint Lucia' 'Saint Martin (French part)'\n",
      " 'Saint Pierre and Miquelon' 'Saint Vincent and the Grenadines' 'Samoa'\n",
      " 'San Marino' 'Sao Tome and Principe' 'Saudi Arabia' 'Scotland' 'Senegal'\n",
      " 'Serbia' 'Seychelles' 'Sierra Leone' 'Singapore'\n",
      " 'Sint Maarten (Dutch part)' 'Slovakia' 'Slovenia' 'Solomon Islands'\n",
      " 'Somalia' 'South Africa' 'South America' 'South Korea' 'South Sudan'\n",
      " 'Spain' 'Sri Lanka' 'Sudan' 'Suriname' 'Sweden' 'Switzerland' 'Syria'\n",
      " 'Taiwan' 'Tajikistan' 'Tanzania' 'Thailand' 'Timor' 'Togo' 'Tokelau'\n",
      " 'Tonga' 'Trinidad and Tobago' 'Tunisia' 'Turkey' 'Turkmenistan'\n",
      " 'Turks and Caicos Islands' 'Tuvalu' 'Uganda' 'Ukraine'\n",
      " 'United Arab Emirates' 'United Kingdom' 'United States'\n",
      " 'United States Virgin Islands' 'Upper middle income' 'Uruguay'\n",
      " 'Uzbekistan' 'Vanuatu' 'Vatican' 'Venezuela' 'Vietnam' 'Wales'\n",
      " 'Wallis and Futuna' 'Western Sahara' 'World' 'Yemen' 'Zambia' 'Zimbabwe']\n"
     ]
    }
   ],
   "source": [
    "# 1. ¿Qué países se encuentran en el DataFrame?\n",
    "paises = data['location'].unique()\n",
    "print(\"Países en el DataFrame:\", paises)"
   ]
  },
  {
   "cell_type": "code",
   "execution_count": 5,
   "metadata": {
    "scrolled": true
   },
   "outputs": [
    {
     "name": "stdout",
     "output_type": "stream",
     "text": [
      "Registros por continente: continent\n",
      "Africa           92626\n",
      "Europe           88138\n",
      "Asia             80794\n",
      "North America    66630\n",
      "Oceania          39000\n",
      "South America    22754\n",
      "Name: count, dtype: int64\n"
     ]
    }
   ],
   "source": [
    "# 2. ¿Cuántos registros hay por continente?\n",
    "registros_por_continente = data['continent'].value_counts()\n",
    "print(\"Registros por continente:\", registros_por_continente)"
   ]
  },
  {
   "cell_type": "code",
   "execution_count": 6,
   "metadata": {},
   "outputs": [
    {
     "name": "stdout",
     "output_type": "stream",
     "text": [
      "Máximo de nuevos casos reportados por país: location\n",
      "Afghanistan          12314.0\n",
      "Africa              316014.0\n",
      "Albania              15405.0\n",
      "Algeria              14774.0\n",
      "American Samoa        1881.0\n",
      "                     ...    \n",
      "Western Sahara           NaN\n",
      "World             44236227.0\n",
      "Yemen                  728.0\n",
      "Zambia               26367.0\n",
      "Zimbabwe             26671.0\n",
      "Name: new_cases, Length: 255, dtype: float64\n"
     ]
    }
   ],
   "source": [
    "# 3. ¿Cuántos nuevos casos hubo como máximo en una fecha reportada por cada país?\n",
    "max_nuevos_casos_por_pais = data.groupby('location')['new_cases'].max()\n",
    "print(\"Máximo de nuevos casos reportados por país:\", max_nuevos_casos_por_pais)"
   ]
  },
  {
   "cell_type": "code",
   "execution_count": 7,
   "metadata": {},
   "outputs": [
    {
     "name": "stdout",
     "output_type": "stream",
     "text": [
      "País con el mayor GDP per cápita: Qatar\n"
     ]
    }
   ],
   "source": [
    "# 4. ¿Cuál es el país con el mayor GDP per cápita (PBI)?\n",
    "max_gdp_per_capita = data.groupby('location')['gdp_per_capita'].max().idxmax()\n",
    "print(\"País con el mayor GDP per cápita:\", max_gdp_per_capita)"
   ]
  },
  {
   "cell_type": "code",
   "execution_count": 8,
   "metadata": {},
   "outputs": [
    {
     "name": "stdout",
     "output_type": "stream",
     "text": [
      "País con la mayor cantidad de fumadoras femeninas: Montenegro\n"
     ]
    }
   ],
   "source": [
    "# 5. ¿Qué país tiene la mayor cantidad de fumadoras femeninas?\n",
    "max_fumadoras_femeninas = data.groupby('location')['female_smokers'].max().idxmax()\n",
    "print(\"País con la mayor cantidad de fumadoras femeninas:\", max_fumadoras_femeninas)"
   ]
  },
  {
   "cell_type": "code",
   "execution_count": 9,
   "metadata": {},
   "outputs": [
    {
     "name": "stdout",
     "output_type": "stream",
     "text": [
      "País con la mayor cantidad de muertes por millón: Peru\n"
     ]
    }
   ],
   "source": [
    "# 6. ¿Qué país tiene la mayor cantidad de muertes por millón?\n",
    "max_muertes_por_millon = data.groupby('location')['total_deaths_per_million'].max().idxmax()\n",
    "print(\"País con la mayor cantidad de muertes por millón:\", max_muertes_por_millon)"
   ]
  },
  {
   "cell_type": "code",
   "execution_count": 10,
   "metadata": {},
   "outputs": [
    {
     "name": "stdout",
     "output_type": "stream",
     "text": [
      "País con las medidas más estrictas: Argentina\n"
     ]
    }
   ],
   "source": [
    "# 7. ¿Qué país ha tomado las medidas más estrictas hasta ahora?\n",
    "max_stringency_index = data.groupby('location')['stringency_index'].max().idxmax()\n",
    "print(\"País con las medidas más estrictas:\", max_stringency_index)"
   ]
  },
  {
   "cell_type": "code",
   "execution_count": 11,
   "metadata": {},
   "outputs": [
    {
     "name": "stdout",
     "output_type": "stream",
     "text": [
      "Primer país en alcanzar 10,000 casos activos: Asia\n"
     ]
    }
   ],
   "source": [
    "# 8. ¿Cuál fue el país en alcanzar los 10,000 casos activos por primera vez?\n",
    "primero_10000_casos_activos = data[data['total_cases'] >= 10000].groupby('location')['date'].min().idxmin()\n",
    "print(\"Primer país en alcanzar 10,000 casos activos:\", primero_10000_casos_activos)"
   ]
  }
 ],
 "metadata": {
  "kernelspec": {
   "display_name": "Python 3 (ipykernel)",
   "language": "python",
   "name": "python3"
  },
  "language_info": {
   "codemirror_mode": {
    "name": "ipython",
    "version": 3
   },
   "file_extension": ".py",
   "mimetype": "text/x-python",
   "name": "python",
   "nbconvert_exporter": "python",
   "pygments_lexer": "ipython3",
   "version": "3.11.7"
  }
 },
 "nbformat": 4,
 "nbformat_minor": 4
}
