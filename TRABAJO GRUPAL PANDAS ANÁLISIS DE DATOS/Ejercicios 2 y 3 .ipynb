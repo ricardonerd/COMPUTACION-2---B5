{
 "cells": [
  {
   "cell_type": "markdown",
   "metadata": {},
   "source": [
    "## <font color=#33A5FF>****EJERCICIOS****<tfont>"
   ]
  },
  {
   "cell_type": "markdown",
   "metadata": {},
   "source": [
    "### Ejercicio 2"
   ]
  },
  {
   "cell_type": "markdown",
   "metadata": {},
   "source": [
    "<div class=\"well\">Visualizar el <strong>nombre del/(los) jugador(es) de la NBA</strong> de mayor <strong>edad</strong> usar columna <strong>Age</strong>, desde el archivo <code>nba.csv</code> (Carpeta <code>data_ejercicios</code> ) debera visualizar por pantalla <strong>todos los datos de dicho(s) jugador(es)</strong> y adicionalmente guardar la información en el archivo <code>nba_adulto.csv</code>(Carpeta <code>data_ejercicios</code>).\n",
    "\n",
    "\n",
    "</div>"
   ]
  },
  {
   "cell_type": "code",
   "execution_count": 3,
   "metadata": {},
   "outputs": [
    {
     "name": "stdout",
     "output_type": "stream",
     "text": [
      "Jugador(es) de mayor edad (40.0 años):\n",
      "\n",
      "                                 Team  Number Position   Age Height  Weight  \\\n",
      "Name                                                                          \n",
      "Tim Duncan          San Antonio Spurs    21.0        C  40.0   6-11   250.0   \n",
      "Andre Miller        San Antonio Spurs    24.0       PG  40.0    6-3   200.0   \n",
      "Kevin Garnett  Minnesota Timberwolves    21.0       PF  40.0   6-11   240.0   \n",
      "\n",
      "                   College     Salary  \n",
      "Name                                   \n",
      "Tim Duncan     Wake Forest  5250000.0  \n",
      "Andre Miller          Utah   250750.0  \n",
      "Kevin Garnett          NaN  8500000.0  \n",
      "\n",
      "Datos guardados en 'nba_adulto.csv'.\n"
     ]
    }
   ],
   "source": [
    "import pandas as pd\n",
    "\n",
    "# Cargar el archivo CSV y establecer \"Name\" como índice\n",
    "data = pd.read_csv(\"data_ejercicios/nba.csv\", index_col=\"Name\")\n",
    "\n",
    "# Encontrar la máxima edad de los jugadores\n",
    "max_age = data['Age'].max()\n",
    "\n",
    "# Filtrar los jugadores que tienen la máxima edad\n",
    "oldest_players = data[data['Age'] == max_age]\n",
    "\n",
    "# Mostrar los datos del jugador más viejo por pantalla\n",
    "print(f\"Jugador(es) de mayor edad ({max_age} años):\\n\")\n",
    "print(oldest_players)\n",
    "\n",
    "# Guardar la información en un nuevo archivo CSV\n",
    "oldest_players.to_csv(\"data_ejercicios/nba_adulto.csv\")\n",
    "print(\"\\nDatos guardados en 'nba_adulto.csv'.\")\n"
   ]
  },
  {
   "cell_type": "code",
   "execution_count": null,
   "metadata": {},
   "outputs": [],
   "source": []
  },
  {
   "cell_type": "markdown",
   "metadata": {},
   "source": [
    "### Ejercicio 3"
   ]
  },
  {
   "cell_type": "markdown",
   "metadata": {},
   "source": [
    "<div class=\"well\">Visualizar el <strong>nombre del/(los) jugador(es) de la NBA</strong> que han llevado estudios <strong>College</strong> en la ciudad de <strong>Kentucky</strong>, dato que se puede ubicar en la columna <strong>College</strong>, desde el archivo <code>nba.csv</code> (Carpeta <code>data_ejercicios </code> ) debera visualizar por pantalla <strong>todos los datos de dicho(s) jugador(es)</strong> y adicionalmente guardar la información en el archivo <code>nba_adulto.csv</code>.\n",
    "\n",
    "\n",
    "</div>"
   ]
  },
  {
   "cell_type": "code",
   "execution_count": 6,
   "metadata": {},
   "outputs": [
    {
     "name": "stdout",
     "output_type": "stream",
     "text": [
      "Jugadores de la NBA que han estudiado en Kentucky:\n",
      "\n",
      "                                          Team  Number Position   Age Height  \\\n",
      "Name                                                                           \n",
      "James Young                     Boston Celtics    13.0       SG  20.0    6-6   \n",
      "Nerlens Noel                Philadelphia 76ers     4.0       PF  22.0   6-11   \n",
      "Patrick Patterson              Toronto Raptors    54.0       PF  27.0    6-9   \n",
      "Julius Randle               Los Angeles Lakers    30.0       PF  21.0    6-9   \n",
      "Eric Bledsoe                      Phoenix Suns     2.0       PG  26.0    6-1   \n",
      "Devin Booker                      Phoenix Suns     1.0       SG  19.0    6-6   \n",
      "Archie Goodwin                    Phoenix Suns    20.0       SG  21.0    6-5   \n",
      "Brandon Knight                    Phoenix Suns     3.0       PG  24.0    6-3   \n",
      "Willie Cauley-Stein           Sacramento Kings     0.0        C  22.0    7-0   \n",
      "DeMarcus Cousins              Sacramento Kings    15.0        C  25.0   6-11   \n",
      "Rajon Rondo                   Sacramento Kings     9.0       PG  30.0    6-1   \n",
      "Jodie Meeks                    Detroit Pistons    20.0       SG  28.0    6-4   \n",
      "Jeremy Evans                  Dallas Mavericks    21.0       SF  28.0    6-9   \n",
      "Terrence Jones                 Houston Rockets     6.0       PF  24.0    6-9   \n",
      "Anthony Davis             New Orleans Pelicans    23.0       PF  23.0   6-10   \n",
      "Aaron Harrison               Charlotte Hornets     9.0       SG  21.0    6-6   \n",
      "Michael Kidd-Gilchrist       Charlotte Hornets    14.0       SF  22.0    6-7   \n",
      "Courtney Lee                 Charlotte Hornets     1.0       SG  30.0    6-5   \n",
      "John Wall                   Washington Wizards     2.0       PG  25.0    6-4   \n",
      "Tayshaun Prince         Minnesota Timberwolves    12.0       SF  36.0    6-9   \n",
      "Karl-Anthony Towns      Minnesota Timberwolves    32.0        C  20.0    7-0   \n",
      "Enes Kanter              Oklahoma City Thunder    11.0        C  24.0   6-11   \n",
      "Nazr Mohammed            Oklahoma City Thunder    13.0        C  38.0   6-10   \n",
      "Trey Lyles                           Utah Jazz    41.0       PF  20.0   6-10   \n",
      "\n",
      "                        Weight           College      Salary  \n",
      "Name                                                          \n",
      "James Young              215.0          Kentucky   1749840.0  \n",
      "Nerlens Noel             228.0          Kentucky   3457800.0  \n",
      "Patrick Patterson        235.0          Kentucky   6268675.0  \n",
      "Julius Randle            250.0          Kentucky   3132240.0  \n",
      "Eric Bledsoe             190.0          Kentucky  13500000.0  \n",
      "Devin Booker             206.0          Kentucky   2127840.0  \n",
      "Archie Goodwin           200.0          Kentucky   1160160.0  \n",
      "Brandon Knight           189.0          Kentucky  13500000.0  \n",
      "Willie Cauley-Stein      240.0          Kentucky   3398280.0  \n",
      "DeMarcus Cousins         270.0          Kentucky  15851950.0  \n",
      "Rajon Rondo              186.0          Kentucky   9500000.0  \n",
      "Jodie Meeks              210.0          Kentucky   6270000.0  \n",
      "Jeremy Evans             200.0  Western Kentucky   1100602.0  \n",
      "Terrence Jones           252.0          Kentucky   2489530.0  \n",
      "Anthony Davis            253.0          Kentucky   7070730.0  \n",
      "Aaron Harrison           210.0          Kentucky    525093.0  \n",
      "Michael Kidd-Gilchrist   232.0          Kentucky   6331404.0  \n",
      "Courtney Lee             200.0  Western Kentucky   5675000.0  \n",
      "John Wall                195.0          Kentucky  15851950.0  \n",
      "Tayshaun Prince          212.0          Kentucky    947276.0  \n",
      "Karl-Anthony Towns       244.0          Kentucky   5703600.0  \n",
      "Enes Kanter              245.0          Kentucky  16407500.0  \n",
      "Nazr Mohammed            250.0          Kentucky    222888.0  \n",
      "Trey Lyles               234.0          Kentucky   2239800.0  \n",
      "\n",
      "Datos guardados en 'nba_kentucky.csv'.\n"
     ]
    }
   ],
   "source": [
    "import pandas as pd\n",
    "\n",
    "# Cargar el archivo CSV y establecer \"Name\" como índice\n",
    "data = pd.read_csv(\"data_ejercicios/nba.csv\", index_col=\"Name\")\n",
    "\n",
    "# Filtrar jugadores cuyo college está en Kentucky\n",
    "kentucky_players = data[data['College'].str.contains('Kentucky', na=False, case=False)]\n",
    "\n",
    "# Mostrar los datos de los jugadores de Kentucky por pantalla\n",
    "print(\"Jugadores de la NBA que han estudiado en Kentucky:\\n\")\n",
    "print(kentucky_players)\n",
    "\n",
    "# Guardar la información en un nuevo archivo CSV\n",
    "kentucky_players.to_csv(\"data_ejercicios/nba_kentucky.csv\")\n",
    "print(\"\\nDatos guardados en 'nba_kentucky.csv'.\")\n"
   ]
  },
  {
   "cell_type": "code",
   "execution_count": null,
   "metadata": {},
   "outputs": [],
   "source": []
  },
  {
   "cell_type": "code",
   "execution_count": null,
   "metadata": {},
   "outputs": [],
   "source": []
  }
 ],
 "metadata": {
  "kernelspec": {
   "display_name": "Python 3 (ipykernel)",
   "language": "python",
   "name": "python3"
  },
  "language_info": {
   "codemirror_mode": {
    "name": "ipython",
    "version": 3
   },
   "file_extension": ".py",
   "mimetype": "text/x-python",
   "name": "python",
   "nbconvert_exporter": "python",
   "pygments_lexer": "ipython3",
   "version": "3.11.7"
  },
  "widgets": {
   "application/vnd.jupyter.widget-state+json": {
    "state": {},
    "version_major": 2,
    "version_minor": 0
   }
  }
 },
 "nbformat": 4,
 "nbformat_minor": 4
}
